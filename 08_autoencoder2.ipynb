{
 "cells": [
  {
   "cell_type": "code",
   "execution_count": 1,
   "metadata": {},
   "outputs": [],
   "source": [
    "from datasets import load_dataset\n",
    "import torch\n",
    "from torch import nn, optim, tensor\n",
    "from torch.utils.data import DataLoader, default_collate\n",
    "import matplotlib.pyplot as plt\n",
    "import matplotlib as mpl\n",
    "import torchvision.transforms.functional as TF\n",
    "from miniai.datasets import *\n",
    "from operator import itemgetter\n",
    "from miniai.conv import to_device\n",
    "from torch.nn.functional import cross_entropy\n",
    "from torch.nn.functional import mse_loss\n",
    "\n",
    "import torch.nn.functional as F"
   ]
  },
  {
   "cell_type": "code",
   "execution_count": 2,
   "metadata": {},
   "outputs": [],
   "source": [
    "torch.manual_seed(42)\n",
    "torch.set_printoptions(precision=2, linewidth=140, sci_mode=False)\n",
    "mpl.rcParams['image.cmap']='gray'"
   ]
  },
  {
   "cell_type": "code",
   "execution_count": 3,
   "metadata": {},
   "outputs": [
    {
     "data": {
      "text/plain": [
       "DatasetDict({\n",
       "    train: Dataset({\n",
       "        features: ['image', 'label'],\n",
       "        num_rows: 60000\n",
       "    })\n",
       "    test: Dataset({\n",
       "        features: ['image', 'label'],\n",
       "        num_rows: 10000\n",
       "    })\n",
       "})"
      ]
     },
     "execution_count": 3,
     "metadata": {},
     "output_type": "execute_result"
    }
   ],
   "source": [
    "ds = load_dataset ('fashion_mnist')\n",
    "ds"
   ]
  },
  {
   "cell_type": "code",
   "execution_count": 4,
   "metadata": {},
   "outputs": [],
   "source": [
    "def transformi(b):\n",
    "    b['image'] = [TF.pil_to_tensor(o).float() for o in b['image']]\n",
    "    return b"
   ]
  },
  {
   "cell_type": "code",
   "execution_count": 5,
   "metadata": {},
   "outputs": [],
   "source": [
    "ds_trans = ds.with_transform(transformi)"
   ]
  },
  {
   "cell_type": "code",
   "execution_count": 6,
   "metadata": {},
   "outputs": [
    {
     "data": {
      "text/plain": [
       "('image', 'label')"
      ]
     },
     "execution_count": 6,
     "metadata": {},
     "output_type": "execute_result"
    }
   ],
   "source": [
    "x,y = ds_trans['train'].features\n",
    "x,y "
   ]
  },
  {
   "cell_type": "code",
   "execution_count": 7,
   "metadata": {},
   "outputs": [],
   "source": [
    "def collate_dic(ds):\n",
    "    get = itemgetter(x,y)\n",
    "    def get_batch(b): return get(default_collate(b))\n",
    "    return get_batch\n",
    "\n",
    "cd = collate_dic(ds_trans)"
   ]
  },
  {
   "cell_type": "code",
   "execution_count": 8,
   "metadata": {},
   "outputs": [],
   "source": [
    "def collate_func(b):\n",
    "    return to_device(cd(b))"
   ]
  },
  {
   "cell_type": "code",
   "execution_count": 9,
   "metadata": {},
   "outputs": [],
   "source": [
    "bs = 250"
   ]
  },
  {
   "cell_type": "code",
   "execution_count": 10,
   "metadata": {},
   "outputs": [],
   "source": [
    "def dls_dic(ds):\n",
    "    return { k: DataLoader(v, bs, collate_fn=collate_func) for k,v in ds.items()}\n",
    "\n",
    "\n",
    "dls = dls_dic(ds_trans)\n",
    "dl_train = dls['train']\n",
    "dl_valid = dls['test']"
   ]
  },
  {
   "cell_type": "code",
   "execution_count": 11,
   "metadata": {},
   "outputs": [
    {
     "data": {
      "text/plain": [
       "(torch.Size([250, 1, 28, 28]),\n",
       " tensor([9, 0, 0, 3, 0, 2, 7, 2, 5, 5, 0, 9, 5, 5, 7, 9, 1, 0, 6, 4, 3, 1, 4, 8, 4, 3, 0, 2, 4, 4, 5, 3, 6, 6, 0, 8, 5, 2, 1, 6, 6, 7, 9, 5,\n",
       "         9, 2, 7, 3, 0, 3, 3, 3, 7, 2, 2, 6, 6, 8, 3, 3, 5, 0, 5, 5, 0, 2, 0, 0, 4, 1, 3, 1, 6, 3, 1, 4, 4, 6, 1, 9, 1, 3, 5, 7, 9, 7, 1, 7,\n",
       "         9, 9, 9, 3, 2, 9, 3, 6, 4, 1, 1, 8, 8, 0, 1, 1, 6, 8, 1, 9, 7, 8, 8, 9, 6, 6, 3, 1, 5, 4, 6, 7, 5, 5, 9, 2, 2, 2, 7, 6, 4, 1, 8, 7,\n",
       "         7, 5, 4, 2, 9, 1, 7, 4, 6, 9, 7, 1, 8, 7, 1, 2, 8, 0, 9, 1, 8, 7, 0, 5, 8, 6, 7, 2, 0, 8, 7, 1, 6, 2, 1, 9, 6, 0, 1, 0, 5, 5, 1, 7,\n",
       "         0, 5, 8, 4, 0, 4, 0, 6, 6, 4, 0, 0, 4, 7, 3, 0, 5, 8, 4, 1, 1, 2, 9, 2, 8, 5, 0, 6, 3, 4, 6, 0, 9, 1, 7, 3, 8, 5, 8, 3, 8, 5, 2, 0,\n",
       "         8, 7, 0, 3, 5, 0, 6, 5, 2, 7, 5, 2, 6, 8, 2, 6, 8, 0, 4, 4, 4, 4, 4, 1, 5, 6, 5, 3, 3, 7], device='cuda:0'))"
      ]
     },
     "execution_count": 11,
     "metadata": {},
     "output_type": "execute_result"
    }
   ],
   "source": [
    "xb, yb = next(iter(dl_train))\n",
    "xb.shape, yb"
   ]
  },
  {
   "cell_type": "code",
   "execution_count": 12,
   "metadata": {},
   "outputs": [
    {
     "data": {
      "text/plain": [
       "['T - shirt / top',\n",
       " 'Trouser',\n",
       " 'Pullover',\n",
       " 'Dress',\n",
       " 'Coat',\n",
       " 'Sandal',\n",
       " 'Shirt',\n",
       " 'Sneaker',\n",
       " 'Bag',\n",
       " 'Ankle boot']"
      ]
     },
     "execution_count": 12,
     "metadata": {},
     "output_type": "execute_result"
    }
   ],
   "source": [
    "featy = ds['train'].features['label']\n",
    "featy.names"
   ]
  },
  {
   "cell_type": "code",
   "execution_count": 13,
   "metadata": {},
   "outputs": [],
   "source": [
    "ig_title = itemgetter(*yb[:8])\n",
    "title = ig_title(featy.names)"
   ]
  },
  {
   "cell_type": "code",
   "execution_count": 14,
   "metadata": {},
   "outputs": [
    {
     "data": {
      "image/png": "[encoded data removed]",
      "text/plain": [
       "<Figure size 420x210 with 8 Axes>"
      ]
     },
     "metadata": {},
     "output_type": "display_data"
    }
   ],
   "source": [
    "mpl.rcParams['figure.dpi'] = 70\n",
    "show_images(xb[:8], imsize=1.5, titles=title)"
   ]
  },
  {
   "cell_type": "code",
   "execution_count": 15,
   "metadata": {},
   "outputs": [],
   "source": [
    "def conv(n_in,n_out,ks=3, act=True ):\n",
    "    conv2d = nn.Conv2d(n_in, n_out, kernel_size=ks,stride=2, padding=ks//2)\n",
    "    if act: return nn.Sequential(conv2d,nn.ReLU())   # check how to do it with append\n",
    "    return conv2d"
   ]
  },
  {
   "cell_type": "code",
   "execution_count": 16,
   "metadata": {},
   "outputs": [
    {
     "data": {
      "text/plain": [
       "\"model = nn.Sequential(\\n    conv(1 ,4),            #14x14\\n    conv(4 ,8),            #7x7\\n    conv(8 ,16),           #4x4\\n    conv(16,16),           #2x2\\n    conv(16,10, act=False), #1x1\\n    nn.Flatten(),\\n).cuda()\\n\\ndef accuracy(out,targ):\\n    return (out.argmax(dim=-1)==targ).float().mean().item()\\n\\naccuracy(model(xb),yb)\\n\\nepochs = 3\\nopt= optim.SGD(model.parameters(),lr=0.5)\\nloss_func = cross_entropy\\n\\nfor epoch in range(epochs):\\n    accuracy_tot = 0.\\n    loss_tot = 0.\\n    count = 0\\n    \\n    model.train()\\n    for xb, yb in dl_train:    \\n        loss = loss_func(model(xb),yb)\\n        loss.backward()\\n        opt.step()\\n        opt.zero_grad()\\n\\n    model.eval()\\n    with torch.no_grad():\\n        for xb, yb in dl_valid:\\n            preds = model(xb)\\n            n = len(xb)\\n            count += n\\n            accuracy_tot += accuracy(preds,yb)*n\\n            loss_tot +=  loss_func(preds,yb).item()*n\\n    print(f'loss: {loss_tot/count:.2f}, accuracy: {accuracy_tot/count:.2f}') \""
      ]
     },
     "execution_count": 16,
     "metadata": {},
     "output_type": "execute_result"
    }
   ],
   "source": [
    "\"\"\"model = nn.Sequential(\n",
    "    conv(1 ,4),            #14x14\n",
    "    conv(4 ,8),            #7x7\n",
    "    conv(8 ,16),           #4x4\n",
    "    conv(16,16),           #2x2\n",
    "    conv(16,10, act=False), #1x1\n",
    "    nn.Flatten(),\n",
    ").cuda()\n",
    "\n",
    "def accuracy(out,targ):\n",
    "    return (out.argmax(dim=-1)==targ).float().mean().item()\n",
    "\n",
    "accuracy(model(xb),yb)\n",
    "\n",
    "epochs = 3\n",
    "opt= optim.SGD(model.parameters(),lr=0.5)\n",
    "loss_func = cross_entropy\n",
    "\n",
    "for epoch in range(epochs):\n",
    "    accuracy_tot = 0.\n",
    "    loss_tot = 0.\n",
    "    count = 0\n",
    "    \n",
    "    model.train()\n",
    "    for xb, yb in dl_train:    \n",
    "        loss = loss_func(model(xb),yb)\n",
    "        loss.backward()\n",
    "        opt.step()\n",
    "        opt.zero_grad()\n",
    "\n",
    "    model.eval()\n",
    "    with torch.no_grad():\n",
    "        for xb, yb in dl_valid:\n",
    "            preds = model(xb)\n",
    "            n = len(xb)\n",
    "            count += n\n",
    "            accuracy_tot += accuracy(preds,yb)*n\n",
    "            loss_tot +=  loss_func(preds,yb).item()*n\n",
    "    print(f'loss: {loss_tot/count:.2f}, accuracy: {accuracy_tot/count:.2f}') \"\"\"  "
   ]
  },
  {
   "cell_type": "code",
   "execution_count": 17,
   "metadata": {},
   "outputs": [],
   "source": [
    "def deconv(n_in, n_out, ks=3, act=True):\n",
    "    layers = [nn.UpsamplingNearest2d(scale_factor=2), nn.Conv2d(n_in, n_out, ks, stride=1, padding = ks//2)]\n",
    "    if act: layers.append(nn.ReLU())\n",
    "    return nn.Sequential(*layers)"
   ]
  },
  {
   "cell_type": "code",
   "execution_count": 18,
   "metadata": {},
   "outputs": [],
   "source": [
    "ae = nn.Sequential(   #28x28\n",
    "    nn.ZeroPad2d(2),  #32x32\n",
    "    conv(1,2),        #16x16\n",
    "    conv(2,4),        #8x8\n",
    "    conv(4,8),        #4x4\n",
    "    deconv(8,4),      #8x8\n",
    "    deconv(4,2),      #16x16\n",
    "    deconv(2,1, act=False), #32x32\n",
    "    nn.ZeroPad2d(-2), #28x28\n",
    "    nn.Sigmoid()\n",
    ").cuda()"
   ]
  },
  {
   "cell_type": "code",
   "execution_count": 19,
   "metadata": {},
   "outputs": [],
   "source": [
    "epochs = 5\n",
    "loss_func = mse_loss\n",
    "opt= optim.SGD(ae.parameters(),lr=0.1)"
   ]
  },
  {
   "cell_type": "code",
   "execution_count": 20,
   "metadata": {},
   "outputs": [
    {
     "name": "stderr",
     "output_type": "stream",
     "text": [
      "/home/metao/fastai2023/part2/.conda/lib/python3.10/site-packages/torch/nn/modules/conv.py:459: UserWarning: Applied workaround for CuDNN issue, install nvrtc.so (Triggered internally at /opt/conda/conda-bld/pytorch_1682343995026/work/aten/src/ATen/native/cudnn/Conv_v8.cpp:80.)\n",
      "  return F.conv2d(input, weight, bias, self.stride,\n"
     ]
    },
    {
     "name": "stdout",
     "output_type": "stream",
     "text": [
      "loss: 13282.329 10000\n",
      "loss: 13282.329 10000\n",
      "loss: 13282.329 10000\n",
      "loss: 13282.329 10000\n",
      "loss: 13282.329 10000\n"
     ]
    }
   ],
   "source": [
    "for epoch in range(epochs):\n",
    "    loss_tot = 0.\n",
    "    count = 0\n",
    "    \n",
    "    ae.train()\n",
    "    for xb, _ in dl_train:    \n",
    "        loss = loss_func(ae(xb),xb)\n",
    "        loss.backward()\n",
    "        opt.step()\n",
    "        opt.zero_grad()\n",
    "\n",
    "    ae.eval()\n",
    "    with torch.no_grad():\n",
    "        for xb, _ in dl_valid:\n",
    "            preds = ae(xb)\n",
    "            n = len(xb)\n",
    "            count += n\n",
    "            loss_tot +=  loss_func(preds,xb).item()*n\n",
    "    print(f'loss: {loss_tot/count:.3f}', count)\n",
    "    "
   ]
  },
  {
   "cell_type": "code",
   "execution_count": 21,
   "metadata": {},
   "outputs": [],
   "source": [
    "p = ae(xb)"
   ]
  },
  {
   "cell_type": "code",
   "execution_count": 22,
   "metadata": {},
   "outputs": [
    {
     "data": {
      "image/png": "[encoded data removed]",
      "text/plain": [
       "<Figure size 840x840 with 16 Axes>"
      ]
     },
     "metadata": {},
     "output_type": "display_data"
    }
   ],
   "source": [
    "show_images(p[:16].data.cpu())"
   ]
  }
 ],
 "metadata": {
  "kernelspec": {
   "display_name": "Python 3",
   "language": "python",
   "name": "python3"
  },
  "language_info": {
   "codemirror_mode": {
    "name": "ipython",
    "version": 3
   },
   "file_extension": ".py",
   "mimetype": "text/x-python",
   "name": "python",
   "nbconvert_exporter": "python",
   "pygments_lexer": "ipython3",
   "version": "3.10.12"
  },
  "orig_nbformat": 4
 },
 "nbformat": 4,
 "nbformat_minor": 2
}
