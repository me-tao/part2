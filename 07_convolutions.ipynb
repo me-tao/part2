{
 "cells": [
  {
   "cell_type": "code",
   "execution_count": 6,
   "metadata": {},
   "outputs": [],
   "source": [
    "import torch\n",
    "from torch import nn\n",
    "\n",
    "from torch.utils.data import default_collate\n",
    "from typing import Mapping\n",
    "\n",
    "import pickle,gzip,math,os,time,shutil,torch,matplotlib as mpl, numpy as np\n",
    "import pandas as pd,matplotlib.pyplot as plt\n",
    "from pathlib import Path\n",
    "from torch import tensor\n",
    "\n",
    "from torch.utils.data import DataLoader\n",
    "from typing import Mapping\n",
    "\n",
    "from miniai.training import *\n",
    "from miniai.datasets import *\n",
    "     \n",
    "\n",
    "mpl.rcParams['image.cmap'] = 'gray'"
   ]
  },
  {
   "cell_type": "code",
   "execution_count": 3,
   "metadata": {},
   "outputs": [],
   "source": [
    "path_data = Path('data')\n",
    "path_gz = path_data/'mnist.pkl.gz'\n",
    "with gzip.open(path_gz, 'rb') as f: ((x_train, y_train), (x_valid, y_valid), _) = pickle.load(f, encoding='latin-1')\n",
    "x_train, y_train, x_valid, y_valid = map(tensor, [x_train, y_train, x_valid, y_valid])"
   ]
  },
  {
   "cell_type": "code",
   "execution_count": 4,
   "metadata": {},
   "outputs": [],
   "source": [
    "x_imgs = x_train.view(-1,28,28)\n",
    "xv_imgs = x_valid.view(-1,28,28)\n",
    "     \n",
    "\n",
    "mpl.rcParams['figure.dpi'] = 30\n",
    "     "
   ]
  },
  {
   "cell_type": "code",
   "execution_count": 13,
   "metadata": {},
   "outputs": [
    {
     "data": {
      "text/plain": [
       "<Axes: >"
      ]
     },
     "execution_count": 13,
     "metadata": {},
     "output_type": "execute_result"
    },
    {
     "data": {
      "image/png": "[encoded data removed]",
      "text/plain": [
       "<Figure size 192x144 with 1 Axes>"
      ]
     },
     "metadata": {},
     "output_type": "display_data"
    }
   ],
   "source": [
    "im3 = x_imgs[7]\n",
    "show_image(im3)"
   ]
  },
  {
   "cell_type": "code",
   "execution_count": 17,
   "metadata": {},
   "outputs": [],
   "source": [
    "top_edge = tensor([[-1,-1,-1],\n",
    "                   [ 0, 0 ,0],\n",
    "                   [ 1 ,1 ,1]]).float()"
   ]
  },
  {
   "cell_type": "code",
   "execution_count": 18,
   "metadata": {},
   "outputs": [
    {
     "data": {
      "text/plain": [
       "<Axes: >"
      ]
     },
     "execution_count": 18,
     "metadata": {},
     "output_type": "execute_result"
    },
    {
     "data": {
      "image/png": "[encoded data removed]",
      "text/plain": [
       "<Figure size 192x144 with 1 Axes>"
      ]
     },
     "metadata": {},
     "output_type": "display_data"
    }
   ],
   "source": [
    "show_image(top_edge)"
   ]
  },
  {
   "cell_type": "code",
   "execution_count": 19,
   "metadata": {},
   "outputs": [
    {
     "data": {
      "text/html": [
       "<style type=\"text/css\">\n",
       "#T_d9a3a_row0_col0, #T_d9a3a_row0_col1, #T_d9a3a_row0_col2, #T_d9a3a_row0_col3, #T_d9a3a_row0_col4, #T_d9a3a_row0_col5, #T_d9a3a_row0_col6, #T_d9a3a_row0_col7, #T_d9a3a_row0_col8, #T_d9a3a_row0_col9, #T_d9a3a_row0_col10, #T_d9a3a_row0_col11, #T_d9a3a_row0_col12, #T_d9a3a_row0_col13, #T_d9a3a_row0_col14, #T_d9a3a_row0_col15, #T_d9a3a_row0_col16, #T_d9a3a_row0_col17, #T_d9a3a_row0_col18, #T_d9a3a_row0_col19, #T_d9a3a_row0_col20, #T_d9a3a_row0_col21, #T_d9a3a_row0_col22, #T_d9a3a_row1_col0, #T_d9a3a_row1_col1, #T_d9a3a_row1_col2, #T_d9a3a_row1_col3, #T_d9a3a_row1_col4, #T_d9a3a_row1_col5, #T_d9a3a_row1_col6, #T_d9a3a_row1_col7, #T_d9a3a_row1_col8, #T_d9a3a_row1_col9, #T_d9a3a_row1_col10, #T_d9a3a_row1_col11, #T_d9a3a_row1_col12, #T_d9a3a_row1_col13, #T_d9a3a_row1_col14, #T_d9a3a_row1_col15, #T_d9a3a_row1_col16, #T_d9a3a_row1_col17, #T_d9a3a_row1_col18, #T_d9a3a_row1_col19, #T_d9a3a_row1_col20, #T_d9a3a_row1_col21, #T_d9a3a_row1_col22, #T_d9a3a_row2_col0, #T_d9a3a_row2_col1, #T_d9a3a_row2_col2, #T_d9a3a_row2_col3, #T_d9a3a_row2_col4, #T_d9a3a_row2_col5, #T_d9a3a_row2_col6, #T_d9a3a_row2_col7, #T_d9a3a_row2_col8, #T_d9a3a_row2_col9, #T_d9a3a_row2_col10, #T_d9a3a_row2_col11, #T_d9a3a_row2_col12, #T_d9a3a_row2_col13, #T_d9a3a_row2_col14, #T_d9a3a_row2_col15, #T_d9a3a_row2_col16, #T_d9a3a_row2_col17, #T_d9a3a_row2_col18, #T_d9a3a_row2_col19, #T_d9a3a_row2_col20, #T_d9a3a_row2_col21, #T_d9a3a_row2_col22, #T_d9a3a_row3_col0, #T_d9a3a_row3_col1, #T_d9a3a_row3_col2, #T_d9a3a_row3_col3, #T_d9a3a_row3_col4, #T_d9a3a_row3_col5, #T_d9a3a_row3_col6, #T_d9a3a_row3_col7, #T_d9a3a_row3_col8, #T_d9a3a_row3_col9, #T_d9a3a_row3_col10, #T_d9a3a_row3_col11, #T_d9a3a_row3_col12, #T_d9a3a_row3_col13, #T_d9a3a_row3_col14, #T_d9a3a_row3_col15, #T_d9a3a_row3_col16, #T_d9a3a_row3_col17, #T_d9a3a_row3_col18, #T_d9a3a_row3_col19, #T_d9a3a_row3_col20, #T_d9a3a_row3_col21, #T_d9a3a_row3_col22, #T_d9a3a_row4_col0, #T_d9a3a_row4_col1, #T_d9a3a_row4_col2, #T_d9a3a_row4_col3, #T_d9a3a_row4_col4, #T_d9a3a_row4_col5, #T_d9a3a_row4_col6, #T_d9a3a_row4_col7, #T_d9a3a_row4_col8, #T_d9a3a_row4_col9, #T_d9a3a_row4_col10, #T_d9a3a_row4_col11, #T_d9a3a_row4_col12, #T_d9a3a_row4_col13, #T_d9a3a_row4_col14, #T_d9a3a_row4_col15, #T_d9a3a_row4_col16, #T_d9a3a_row4_col17, #T_d9a3a_row4_col18, #T_d9a3a_row4_col19, #T_d9a3a_row4_col20, #T_d9a3a_row4_col21, #T_d9a3a_row4_col22, #T_d9a3a_row5_col0, #T_d9a3a_row5_col1, #T_d9a3a_row5_col2, #T_d9a3a_row5_col3, #T_d9a3a_row5_col4, #T_d9a3a_row5_col5, #T_d9a3a_row5_col6, #T_d9a3a_row5_col7, #T_d9a3a_row5_col8, #T_d9a3a_row5_col9, #T_d9a3a_row5_col10, #T_d9a3a_row5_col22, #T_d9a3a_row6_col0, #T_d9a3a_row6_col1, #T_d9a3a_row6_col2, #T_d9a3a_row6_col3, #T_d9a3a_row6_col4, #T_d9a3a_row6_col5, #T_d9a3a_row6_col6, #T_d9a3a_row6_col7, #T_d9a3a_row6_col8, #T_d9a3a_row7_col0, #T_d9a3a_row7_col1, #T_d9a3a_row7_col2, #T_d9a3a_row7_col3, #T_d9a3a_row7_col4, #T_d9a3a_row7_col5, #T_d9a3a_row7_col6, #T_d9a3a_row7_col7, #T_d9a3a_row7_col8, #T_d9a3a_row8_col0, #T_d9a3a_row8_col1, #T_d9a3a_row8_col2, #T_d9a3a_row8_col3, #T_d9a3a_row8_col4, #T_d9a3a_row8_col5, #T_d9a3a_row8_col6, #T_d9a3a_row8_col7, #T_d9a3a_row8_col8, #T_d9a3a_row9_col0, #T_d9a3a_row9_col1, #T_d9a3a_row9_col2, #T_d9a3a_row9_col3, #T_d9a3a_row9_col4, #T_d9a3a_row9_col5, #T_d9a3a_row9_col6, #T_d9a3a_row9_col7, #T_d9a3a_row9_col8, #T_d9a3a_row9_col13, #T_d9a3a_row9_col14, #T_d9a3a_row9_col15, #T_d9a3a_row9_col16, #T_d9a3a_row10_col0, #T_d9a3a_row10_col1, #T_d9a3a_row10_col2, #T_d9a3a_row10_col3, #T_d9a3a_row10_col4, #T_d9a3a_row10_col5, #T_d9a3a_row10_col6, #T_d9a3a_row10_col7, #T_d9a3a_row10_col8, #T_d9a3a_row10_col9, #T_d9a3a_row10_col10, #T_d9a3a_row10_col11, #T_d9a3a_row10_col12, #T_d9a3a_row10_col13, #T_d9a3a_row10_col14, #T_d9a3a_row10_col15, #T_d9a3a_row10_col16, #T_d9a3a_row10_col22, #T_d9a3a_row11_col0, #T_d9a3a_row11_col1, #T_d9a3a_row11_col2, #T_d9a3a_row11_col3, #T_d9a3a_row11_col4, #T_d9a3a_row11_col5, #T_d9a3a_row11_col6, #T_d9a3a_row11_col7, #T_d9a3a_row11_col8, #T_d9a3a_row11_col9, #T_d9a3a_row11_col10, #T_d9a3a_row11_col11, #T_d9a3a_row11_col12, #T_d9a3a_row11_col13, #T_d9a3a_row11_col14, #T_d9a3a_row11_col15, #T_d9a3a_row11_col22, #T_d9a3a_row12_col0, #T_d9a3a_row12_col1, #T_d9a3a_row12_col2, #T_d9a3a_row12_col3, #T_d9a3a_row12_col4, #T_d9a3a_row12_col5, #T_d9a3a_row12_col6, #T_d9a3a_row12_col7, #T_d9a3a_row12_col8, #T_d9a3a_row12_col9, #T_d9a3a_row12_col10, #T_d9a3a_row12_col11, #T_d9a3a_row12_col12, #T_d9a3a_row12_col13, #T_d9a3a_row12_col22 {\n",
       "  font-size: 7pt;\n",
       "  background-color: #ffffff;\n",
       "  color: #000000;\n",
       "}\n",
       "#T_d9a3a_row5_col11 {\n",
       "  font-size: 7pt;\n",
       "  background-color: #ececec;\n",
       "  color: #000000;\n",
       "}\n",
       "#T_d9a3a_row5_col12 {\n",
       "  font-size: 7pt;\n",
       "  background-color: #e8e8e8;\n",
       "  color: #000000;\n",
       "}\n",
       "#T_d9a3a_row5_col13 {\n",
       "  font-size: 7pt;\n",
       "  background-color: #b0b0b0;\n",
       "  color: #000000;\n",
       "}\n",
       "#T_d9a3a_row5_col14, #T_d9a3a_row5_col15, #T_d9a3a_row5_col16, #T_d9a3a_row5_col17, #T_d9a3a_row5_col18, #T_d9a3a_row5_col19, #T_d9a3a_row6_col13, #T_d9a3a_row6_col20, #T_d9a3a_row7_col9, #T_d9a3a_row7_col10, #T_d9a3a_row7_col11, #T_d9a3a_row7_col12, #T_d9a3a_row7_col13, #T_d9a3a_row7_col20, #T_d9a3a_row7_col21, #T_d9a3a_row7_col22, #T_d9a3a_row8_col10, #T_d9a3a_row8_col11, #T_d9a3a_row8_col20, #T_d9a3a_row8_col21, #T_d9a3a_row8_col22, #T_d9a3a_row9_col20, #T_d9a3a_row10_col20, #T_d9a3a_row11_col20 {\n",
       "  font-size: 7pt;\n",
       "  background-color: #000000;\n",
       "  color: #f1f1f1;\n",
       "}\n",
       "#T_d9a3a_row5_col20 {\n",
       "  font-size: 7pt;\n",
       "  background-color: #626262;\n",
       "  color: #f1f1f1;\n",
       "}\n",
       "#T_d9a3a_row5_col21 {\n",
       "  font-size: 7pt;\n",
       "  background-color: #fcfcfc;\n",
       "  color: #000000;\n",
       "}\n",
       "#T_d9a3a_row6_col9 {\n",
       "  font-size: 7pt;\n",
       "  background-color: #dbdbdb;\n",
       "  color: #000000;\n",
       "}\n",
       "#T_d9a3a_row6_col10 {\n",
       "  font-size: 7pt;\n",
       "  background-color: #878787;\n",
       "  color: #f1f1f1;\n",
       "}\n",
       "#T_d9a3a_row6_col11 {\n",
       "  font-size: 7pt;\n",
       "  background-color: #212121;\n",
       "  color: #f1f1f1;\n",
       "}\n",
       "#T_d9a3a_row6_col12 {\n",
       "  font-size: 7pt;\n",
       "  background-color: #1e1e1e;\n",
       "  color: #f1f1f1;\n",
       "}\n",
       "#T_d9a3a_row6_col14, #T_d9a3a_row7_col14 {\n",
       "  font-size: 7pt;\n",
       "  background-color: #020202;\n",
       "  color: #f1f1f1;\n",
       "}\n",
       "#T_d9a3a_row6_col15, #T_d9a3a_row6_col16, #T_d9a3a_row6_col17, #T_d9a3a_row6_col18, #T_d9a3a_row6_col19, #T_d9a3a_row7_col15, #T_d9a3a_row7_col16, #T_d9a3a_row7_col17, #T_d9a3a_row7_col18, #T_d9a3a_row7_col19, #T_d9a3a_row8_col18, #T_d9a3a_row8_col19, #T_d9a3a_row9_col19, #T_d9a3a_row10_col19, #T_d9a3a_row11_col18, #T_d9a3a_row11_col19, #T_d9a3a_row12_col17, #T_d9a3a_row12_col18, #T_d9a3a_row12_col19 {\n",
       "  font-size: 7pt;\n",
       "  background-color: #010101;\n",
       "  color: #f1f1f1;\n",
       "}\n",
       "#T_d9a3a_row6_col21 {\n",
       "  font-size: 7pt;\n",
       "  background-color: #727272;\n",
       "  color: #f1f1f1;\n",
       "}\n",
       "#T_d9a3a_row6_col22 {\n",
       "  font-size: 7pt;\n",
       "  background-color: #dcdcdc;\n",
       "  color: #000000;\n",
       "}\n",
       "#T_d9a3a_row8_col9 {\n",
       "  font-size: 7pt;\n",
       "  background-color: #777777;\n",
       "  color: #f1f1f1;\n",
       "}\n",
       "#T_d9a3a_row8_col12 {\n",
       "  font-size: 7pt;\n",
       "  background-color: #1a1a1a;\n",
       "  color: #f1f1f1;\n",
       "}\n",
       "#T_d9a3a_row8_col13 {\n",
       "  font-size: 7pt;\n",
       "  background-color: #8f8f8f;\n",
       "  color: #f1f1f1;\n",
       "}\n",
       "#T_d9a3a_row8_col14, #T_d9a3a_row8_col15, #T_d9a3a_row8_col16 {\n",
       "  font-size: 7pt;\n",
       "  background-color: #909090;\n",
       "  color: #f1f1f1;\n",
       "}\n",
       "#T_d9a3a_row8_col17, #T_d9a3a_row11_col17 {\n",
       "  font-size: 7pt;\n",
       "  background-color: #525252;\n",
       "  color: #f1f1f1;\n",
       "}\n",
       "#T_d9a3a_row9_col9 {\n",
       "  font-size: 7pt;\n",
       "  background-color: #fdfdfd;\n",
       "  color: #000000;\n",
       "}\n",
       "#T_d9a3a_row9_col10, #T_d9a3a_row9_col11, #T_d9a3a_row9_col22 {\n",
       "  font-size: 7pt;\n",
       "  background-color: #f1f1f1;\n",
       "  color: #000000;\n",
       "}\n",
       "#T_d9a3a_row9_col12 {\n",
       "  font-size: 7pt;\n",
       "  background-color: #f4f4f4;\n",
       "  color: #000000;\n",
       "}\n",
       "#T_d9a3a_row9_col17, #T_d9a3a_row11_col21 {\n",
       "  font-size: 7pt;\n",
       "  background-color: #f8f8f8;\n",
       "  color: #000000;\n",
       "}\n",
       "#T_d9a3a_row9_col18 {\n",
       "  font-size: 7pt;\n",
       "  background-color: #1f1f1f;\n",
       "  color: #f1f1f1;\n",
       "}\n",
       "#T_d9a3a_row9_col21 {\n",
       "  font-size: 7pt;\n",
       "  background-color: #646464;\n",
       "  color: #f1f1f1;\n",
       "}\n",
       "#T_d9a3a_row10_col17 {\n",
       "  font-size: 7pt;\n",
       "  background-color: #c5c5c5;\n",
       "  color: #000000;\n",
       "}\n",
       "#T_d9a3a_row10_col18 {\n",
       "  font-size: 7pt;\n",
       "  background-color: #0c0c0c;\n",
       "  color: #f1f1f1;\n",
       "}\n",
       "#T_d9a3a_row10_col21 {\n",
       "  font-size: 7pt;\n",
       "  background-color: #828282;\n",
       "  color: #f1f1f1;\n",
       "}\n",
       "#T_d9a3a_row11_col16 {\n",
       "  font-size: 7pt;\n",
       "  background-color: #c3c3c3;\n",
       "  color: #000000;\n",
       "}\n",
       "#T_d9a3a_row12_col14 {\n",
       "  font-size: 7pt;\n",
       "  background-color: #c1c1c1;\n",
       "  color: #000000;\n",
       "}\n",
       "#T_d9a3a_row12_col15 {\n",
       "  font-size: 7pt;\n",
       "  background-color: #323232;\n",
       "  color: #f1f1f1;\n",
       "}\n",
       "#T_d9a3a_row12_col16 {\n",
       "  font-size: 7pt;\n",
       "  background-color: #070707;\n",
       "  color: #f1f1f1;\n",
       "}\n",
       "#T_d9a3a_row12_col20 {\n",
       "  font-size: 7pt;\n",
       "  background-color: #3c3c3c;\n",
       "  color: #f1f1f1;\n",
       "}\n",
       "#T_d9a3a_row12_col21 {\n",
       "  font-size: 7pt;\n",
       "  background-color: #fbfbfb;\n",
       "  color: #000000;\n",
       "}\n",
       "</style>\n",
       "<table id=\"T_d9a3a\">\n",
       "  <thead>\n",
       "    <tr>\n",
       "      <th class=\"blank level0\" >&nbsp;</th>\n",
       "      <th id=\"T_d9a3a_level0_col0\" class=\"col_heading level0 col0\" >0</th>\n",
       "      <th id=\"T_d9a3a_level0_col1\" class=\"col_heading level0 col1\" >1</th>\n",
       "      <th id=\"T_d9a3a_level0_col2\" class=\"col_heading level0 col2\" >2</th>\n",
       "      <th id=\"T_d9a3a_level0_col3\" class=\"col_heading level0 col3\" >3</th>\n",
       "      <th id=\"T_d9a3a_level0_col4\" class=\"col_heading level0 col4\" >4</th>\n",
       "      <th id=\"T_d9a3a_level0_col5\" class=\"col_heading level0 col5\" >5</th>\n",
       "      <th id=\"T_d9a3a_level0_col6\" class=\"col_heading level0 col6\" >6</th>\n",
       "      <th id=\"T_d9a3a_level0_col7\" class=\"col_heading level0 col7\" >7</th>\n",
       "      <th id=\"T_d9a3a_level0_col8\" class=\"col_heading level0 col8\" >8</th>\n",
       "      <th id=\"T_d9a3a_level0_col9\" class=\"col_heading level0 col9\" >9</th>\n",
       "      <th id=\"T_d9a3a_level0_col10\" class=\"col_heading level0 col10\" >10</th>\n",
       "      <th id=\"T_d9a3a_level0_col11\" class=\"col_heading level0 col11\" >11</th>\n",
       "      <th id=\"T_d9a3a_level0_col12\" class=\"col_heading level0 col12\" >12</th>\n",
       "      <th id=\"T_d9a3a_level0_col13\" class=\"col_heading level0 col13\" >13</th>\n",
       "      <th id=\"T_d9a3a_level0_col14\" class=\"col_heading level0 col14\" >14</th>\n",
       "      <th id=\"T_d9a3a_level0_col15\" class=\"col_heading level0 col15\" >15</th>\n",
       "      <th id=\"T_d9a3a_level0_col16\" class=\"col_heading level0 col16\" >16</th>\n",
       "      <th id=\"T_d9a3a_level0_col17\" class=\"col_heading level0 col17\" >17</th>\n",
       "      <th id=\"T_d9a3a_level0_col18\" class=\"col_heading level0 col18\" >18</th>\n",
       "      <th id=\"T_d9a3a_level0_col19\" class=\"col_heading level0 col19\" >19</th>\n",
       "      <th id=\"T_d9a3a_level0_col20\" class=\"col_heading level0 col20\" >20</th>\n",
       "      <th id=\"T_d9a3a_level0_col21\" class=\"col_heading level0 col21\" >21</th>\n",
       "      <th id=\"T_d9a3a_level0_col22\" class=\"col_heading level0 col22\" >22</th>\n",
       "    </tr>\n",
       "  </thead>\n",
       "  <tbody>\n",
       "    <tr>\n",
       "      <th id=\"T_d9a3a_level0_row0\" class=\"row_heading level0 row0\" >0</th>\n",
       "      <td id=\"T_d9a3a_row0_col0\" class=\"data row0 col0\" >0.00</td>\n",
       "      <td id=\"T_d9a3a_row0_col1\" class=\"data row0 col1\" >0.00</td>\n",
       "      <td id=\"T_d9a3a_row0_col2\" class=\"data row0 col2\" >0.00</td>\n",
       "      <td id=\"T_d9a3a_row0_col3\" class=\"data row0 col3\" >0.00</td>\n",
       "      <td id=\"T_d9a3a_row0_col4\" class=\"data row0 col4\" >0.00</td>\n",
       "      <td id=\"T_d9a3a_row0_col5\" class=\"data row0 col5\" >0.00</td>\n",
       "      <td id=\"T_d9a3a_row0_col6\" class=\"data row0 col6\" >0.00</td>\n",
       "      <td id=\"T_d9a3a_row0_col7\" class=\"data row0 col7\" >0.00</td>\n",
       "      <td id=\"T_d9a3a_row0_col8\" class=\"data row0 col8\" >0.00</td>\n",
       "      <td id=\"T_d9a3a_row0_col9\" class=\"data row0 col9\" >0.00</td>\n",
       "      <td id=\"T_d9a3a_row0_col10\" class=\"data row0 col10\" >0.00</td>\n",
       "      <td id=\"T_d9a3a_row0_col11\" class=\"data row0 col11\" >0.00</td>\n",
       "      <td id=\"T_d9a3a_row0_col12\" class=\"data row0 col12\" >0.00</td>\n",
       "      <td id=\"T_d9a3a_row0_col13\" class=\"data row0 col13\" >0.00</td>\n",
       "      <td id=\"T_d9a3a_row0_col14\" class=\"data row0 col14\" >0.00</td>\n",
       "      <td id=\"T_d9a3a_row0_col15\" class=\"data row0 col15\" >0.00</td>\n",
       "      <td id=\"T_d9a3a_row0_col16\" class=\"data row0 col16\" >0.00</td>\n",
       "      <td id=\"T_d9a3a_row0_col17\" class=\"data row0 col17\" >0.00</td>\n",
       "      <td id=\"T_d9a3a_row0_col18\" class=\"data row0 col18\" >0.00</td>\n",
       "      <td id=\"T_d9a3a_row0_col19\" class=\"data row0 col19\" >0.00</td>\n",
       "      <td id=\"T_d9a3a_row0_col20\" class=\"data row0 col20\" >0.00</td>\n",
       "      <td id=\"T_d9a3a_row0_col21\" class=\"data row0 col21\" >0.00</td>\n",
       "      <td id=\"T_d9a3a_row0_col22\" class=\"data row0 col22\" >0.00</td>\n",
       "    </tr>\n",
       "    <tr>\n",
       "      <th id=\"T_d9a3a_level0_row1\" class=\"row_heading level0 row1\" >1</th>\n",
       "      <td id=\"T_d9a3a_row1_col0\" class=\"data row1 col0\" >0.00</td>\n",
       "      <td id=\"T_d9a3a_row1_col1\" class=\"data row1 col1\" >0.00</td>\n",
       "      <td id=\"T_d9a3a_row1_col2\" class=\"data row1 col2\" >0.00</td>\n",
       "      <td id=\"T_d9a3a_row1_col3\" class=\"data row1 col3\" >0.00</td>\n",
       "      <td id=\"T_d9a3a_row1_col4\" class=\"data row1 col4\" >0.00</td>\n",
       "      <td id=\"T_d9a3a_row1_col5\" class=\"data row1 col5\" >0.00</td>\n",
       "      <td id=\"T_d9a3a_row1_col6\" class=\"data row1 col6\" >0.00</td>\n",
       "      <td id=\"T_d9a3a_row1_col7\" class=\"data row1 col7\" >0.00</td>\n",
       "      <td id=\"T_d9a3a_row1_col8\" class=\"data row1 col8\" >0.00</td>\n",
       "      <td id=\"T_d9a3a_row1_col9\" class=\"data row1 col9\" >0.00</td>\n",
       "      <td id=\"T_d9a3a_row1_col10\" class=\"data row1 col10\" >0.00</td>\n",
       "      <td id=\"T_d9a3a_row1_col11\" class=\"data row1 col11\" >0.00</td>\n",
       "      <td id=\"T_d9a3a_row1_col12\" class=\"data row1 col12\" >0.00</td>\n",
       "      <td id=\"T_d9a3a_row1_col13\" class=\"data row1 col13\" >0.00</td>\n",
       "      <td id=\"T_d9a3a_row1_col14\" class=\"data row1 col14\" >0.00</td>\n",
       "      <td id=\"T_d9a3a_row1_col15\" class=\"data row1 col15\" >0.00</td>\n",
       "      <td id=\"T_d9a3a_row1_col16\" class=\"data row1 col16\" >0.00</td>\n",
       "      <td id=\"T_d9a3a_row1_col17\" class=\"data row1 col17\" >0.00</td>\n",
       "      <td id=\"T_d9a3a_row1_col18\" class=\"data row1 col18\" >0.00</td>\n",
       "      <td id=\"T_d9a3a_row1_col19\" class=\"data row1 col19\" >0.00</td>\n",
       "      <td id=\"T_d9a3a_row1_col20\" class=\"data row1 col20\" >0.00</td>\n",
       "      <td id=\"T_d9a3a_row1_col21\" class=\"data row1 col21\" >0.00</td>\n",
       "      <td id=\"T_d9a3a_row1_col22\" class=\"data row1 col22\" >0.00</td>\n",
       "    </tr>\n",
       "    <tr>\n",
       "      <th id=\"T_d9a3a_level0_row2\" class=\"row_heading level0 row2\" >2</th>\n",
       "      <td id=\"T_d9a3a_row2_col0\" class=\"data row2 col0\" >0.00</td>\n",
       "      <td id=\"T_d9a3a_row2_col1\" class=\"data row2 col1\" >0.00</td>\n",
       "      <td id=\"T_d9a3a_row2_col2\" class=\"data row2 col2\" >0.00</td>\n",
       "      <td id=\"T_d9a3a_row2_col3\" class=\"data row2 col3\" >0.00</td>\n",
       "      <td id=\"T_d9a3a_row2_col4\" class=\"data row2 col4\" >0.00</td>\n",
       "      <td id=\"T_d9a3a_row2_col5\" class=\"data row2 col5\" >0.00</td>\n",
       "      <td id=\"T_d9a3a_row2_col6\" class=\"data row2 col6\" >0.00</td>\n",
       "      <td id=\"T_d9a3a_row2_col7\" class=\"data row2 col7\" >0.00</td>\n",
       "      <td id=\"T_d9a3a_row2_col8\" class=\"data row2 col8\" >0.00</td>\n",
       "      <td id=\"T_d9a3a_row2_col9\" class=\"data row2 col9\" >0.00</td>\n",
       "      <td id=\"T_d9a3a_row2_col10\" class=\"data row2 col10\" >0.00</td>\n",
       "      <td id=\"T_d9a3a_row2_col11\" class=\"data row2 col11\" >0.00</td>\n",
       "      <td id=\"T_d9a3a_row2_col12\" class=\"data row2 col12\" >0.00</td>\n",
       "      <td id=\"T_d9a3a_row2_col13\" class=\"data row2 col13\" >0.00</td>\n",
       "      <td id=\"T_d9a3a_row2_col14\" class=\"data row2 col14\" >0.00</td>\n",
       "      <td id=\"T_d9a3a_row2_col15\" class=\"data row2 col15\" >0.00</td>\n",
       "      <td id=\"T_d9a3a_row2_col16\" class=\"data row2 col16\" >0.00</td>\n",
       "      <td id=\"T_d9a3a_row2_col17\" class=\"data row2 col17\" >0.00</td>\n",
       "      <td id=\"T_d9a3a_row2_col18\" class=\"data row2 col18\" >0.00</td>\n",
       "      <td id=\"T_d9a3a_row2_col19\" class=\"data row2 col19\" >0.00</td>\n",
       "      <td id=\"T_d9a3a_row2_col20\" class=\"data row2 col20\" >0.00</td>\n",
       "      <td id=\"T_d9a3a_row2_col21\" class=\"data row2 col21\" >0.00</td>\n",
       "      <td id=\"T_d9a3a_row2_col22\" class=\"data row2 col22\" >0.00</td>\n",
       "    </tr>\n",
       "    <tr>\n",
       "      <th id=\"T_d9a3a_level0_row3\" class=\"row_heading level0 row3\" >3</th>\n",
       "      <td id=\"T_d9a3a_row3_col0\" class=\"data row3 col0\" >0.00</td>\n",
       "      <td id=\"T_d9a3a_row3_col1\" class=\"data row3 col1\" >0.00</td>\n",
       "      <td id=\"T_d9a3a_row3_col2\" class=\"data row3 col2\" >0.00</td>\n",
       "      <td id=\"T_d9a3a_row3_col3\" class=\"data row3 col3\" >0.00</td>\n",
       "      <td id=\"T_d9a3a_row3_col4\" class=\"data row3 col4\" >0.00</td>\n",
       "      <td id=\"T_d9a3a_row3_col5\" class=\"data row3 col5\" >0.00</td>\n",
       "      <td id=\"T_d9a3a_row3_col6\" class=\"data row3 col6\" >0.00</td>\n",
       "      <td id=\"T_d9a3a_row3_col7\" class=\"data row3 col7\" >0.00</td>\n",
       "      <td id=\"T_d9a3a_row3_col8\" class=\"data row3 col8\" >0.00</td>\n",
       "      <td id=\"T_d9a3a_row3_col9\" class=\"data row3 col9\" >0.00</td>\n",
       "      <td id=\"T_d9a3a_row3_col10\" class=\"data row3 col10\" >0.00</td>\n",
       "      <td id=\"T_d9a3a_row3_col11\" class=\"data row3 col11\" >0.00</td>\n",
       "      <td id=\"T_d9a3a_row3_col12\" class=\"data row3 col12\" >0.00</td>\n",
       "      <td id=\"T_d9a3a_row3_col13\" class=\"data row3 col13\" >0.00</td>\n",
       "      <td id=\"T_d9a3a_row3_col14\" class=\"data row3 col14\" >0.00</td>\n",
       "      <td id=\"T_d9a3a_row3_col15\" class=\"data row3 col15\" >0.00</td>\n",
       "      <td id=\"T_d9a3a_row3_col16\" class=\"data row3 col16\" >0.00</td>\n",
       "      <td id=\"T_d9a3a_row3_col17\" class=\"data row3 col17\" >0.00</td>\n",
       "      <td id=\"T_d9a3a_row3_col18\" class=\"data row3 col18\" >0.00</td>\n",
       "      <td id=\"T_d9a3a_row3_col19\" class=\"data row3 col19\" >0.00</td>\n",
       "      <td id=\"T_d9a3a_row3_col20\" class=\"data row3 col20\" >0.00</td>\n",
       "      <td id=\"T_d9a3a_row3_col21\" class=\"data row3 col21\" >0.00</td>\n",
       "      <td id=\"T_d9a3a_row3_col22\" class=\"data row3 col22\" >0.00</td>\n",
       "    </tr>\n",
       "    <tr>\n",
       "      <th id=\"T_d9a3a_level0_row4\" class=\"row_heading level0 row4\" >4</th>\n",
       "      <td id=\"T_d9a3a_row4_col0\" class=\"data row4 col0\" >0.00</td>\n",
       "      <td id=\"T_d9a3a_row4_col1\" class=\"data row4 col1\" >0.00</td>\n",
       "      <td id=\"T_d9a3a_row4_col2\" class=\"data row4 col2\" >0.00</td>\n",
       "      <td id=\"T_d9a3a_row4_col3\" class=\"data row4 col3\" >0.00</td>\n",
       "      <td id=\"T_d9a3a_row4_col4\" class=\"data row4 col4\" >0.00</td>\n",
       "      <td id=\"T_d9a3a_row4_col5\" class=\"data row4 col5\" >0.00</td>\n",
       "      <td id=\"T_d9a3a_row4_col6\" class=\"data row4 col6\" >0.00</td>\n",
       "      <td id=\"T_d9a3a_row4_col7\" class=\"data row4 col7\" >0.00</td>\n",
       "      <td id=\"T_d9a3a_row4_col8\" class=\"data row4 col8\" >0.00</td>\n",
       "      <td id=\"T_d9a3a_row4_col9\" class=\"data row4 col9\" >0.00</td>\n",
       "      <td id=\"T_d9a3a_row4_col10\" class=\"data row4 col10\" >0.00</td>\n",
       "      <td id=\"T_d9a3a_row4_col11\" class=\"data row4 col11\" >0.00</td>\n",
       "      <td id=\"T_d9a3a_row4_col12\" class=\"data row4 col12\" >0.00</td>\n",
       "      <td id=\"T_d9a3a_row4_col13\" class=\"data row4 col13\" >0.00</td>\n",
       "      <td id=\"T_d9a3a_row4_col14\" class=\"data row4 col14\" >0.00</td>\n",
       "      <td id=\"T_d9a3a_row4_col15\" class=\"data row4 col15\" >0.00</td>\n",
       "      <td id=\"T_d9a3a_row4_col16\" class=\"data row4 col16\" >0.00</td>\n",
       "      <td id=\"T_d9a3a_row4_col17\" class=\"data row4 col17\" >0.00</td>\n",
       "      <td id=\"T_d9a3a_row4_col18\" class=\"data row4 col18\" >0.00</td>\n",
       "      <td id=\"T_d9a3a_row4_col19\" class=\"data row4 col19\" >0.00</td>\n",
       "      <td id=\"T_d9a3a_row4_col20\" class=\"data row4 col20\" >0.00</td>\n",
       "      <td id=\"T_d9a3a_row4_col21\" class=\"data row4 col21\" >0.00</td>\n",
       "      <td id=\"T_d9a3a_row4_col22\" class=\"data row4 col22\" >0.00</td>\n",
       "    </tr>\n",
       "    <tr>\n",
       "      <th id=\"T_d9a3a_level0_row5\" class=\"row_heading level0 row5\" >5</th>\n",
       "      <td id=\"T_d9a3a_row5_col0\" class=\"data row5 col0\" >0.00</td>\n",
       "      <td id=\"T_d9a3a_row5_col1\" class=\"data row5 col1\" >0.00</td>\n",
       "      <td id=\"T_d9a3a_row5_col2\" class=\"data row5 col2\" >0.00</td>\n",
       "      <td id=\"T_d9a3a_row5_col3\" class=\"data row5 col3\" >0.00</td>\n",
       "      <td id=\"T_d9a3a_row5_col4\" class=\"data row5 col4\" >0.00</td>\n",
       "      <td id=\"T_d9a3a_row5_col5\" class=\"data row5 col5\" >0.00</td>\n",
       "      <td id=\"T_d9a3a_row5_col6\" class=\"data row5 col6\" >0.00</td>\n",
       "      <td id=\"T_d9a3a_row5_col7\" class=\"data row5 col7\" >0.00</td>\n",
       "      <td id=\"T_d9a3a_row5_col8\" class=\"data row5 col8\" >0.00</td>\n",
       "      <td id=\"T_d9a3a_row5_col9\" class=\"data row5 col9\" >0.00</td>\n",
       "      <td id=\"T_d9a3a_row5_col10\" class=\"data row5 col10\" >0.00</td>\n",
       "      <td id=\"T_d9a3a_row5_col11\" class=\"data row5 col11\" >0.15</td>\n",
       "      <td id=\"T_d9a3a_row5_col12\" class=\"data row5 col12\" >0.17</td>\n",
       "      <td id=\"T_d9a3a_row5_col13\" class=\"data row5 col13\" >0.41</td>\n",
       "      <td id=\"T_d9a3a_row5_col14\" class=\"data row5 col14\" >1.00</td>\n",
       "      <td id=\"T_d9a3a_row5_col15\" class=\"data row5 col15\" >0.99</td>\n",
       "      <td id=\"T_d9a3a_row5_col16\" class=\"data row5 col16\" >0.99</td>\n",
       "      <td id=\"T_d9a3a_row5_col17\" class=\"data row5 col17\" >0.99</td>\n",
       "      <td id=\"T_d9a3a_row5_col18\" class=\"data row5 col18\" >0.99</td>\n",
       "      <td id=\"T_d9a3a_row5_col19\" class=\"data row5 col19\" >0.99</td>\n",
       "      <td id=\"T_d9a3a_row5_col20\" class=\"data row5 col20\" >0.68</td>\n",
       "      <td id=\"T_d9a3a_row5_col21\" class=\"data row5 col21\" >0.02</td>\n",
       "      <td id=\"T_d9a3a_row5_col22\" class=\"data row5 col22\" >0.00</td>\n",
       "    </tr>\n",
       "    <tr>\n",
       "      <th id=\"T_d9a3a_level0_row6\" class=\"row_heading level0 row6\" >6</th>\n",
       "      <td id=\"T_d9a3a_row6_col0\" class=\"data row6 col0\" >0.00</td>\n",
       "      <td id=\"T_d9a3a_row6_col1\" class=\"data row6 col1\" >0.00</td>\n",
       "      <td id=\"T_d9a3a_row6_col2\" class=\"data row6 col2\" >0.00</td>\n",
       "      <td id=\"T_d9a3a_row6_col3\" class=\"data row6 col3\" >0.00</td>\n",
       "      <td id=\"T_d9a3a_row6_col4\" class=\"data row6 col4\" >0.00</td>\n",
       "      <td id=\"T_d9a3a_row6_col5\" class=\"data row6 col5\" >0.00</td>\n",
       "      <td id=\"T_d9a3a_row6_col6\" class=\"data row6 col6\" >0.00</td>\n",
       "      <td id=\"T_d9a3a_row6_col7\" class=\"data row6 col7\" >0.00</td>\n",
       "      <td id=\"T_d9a3a_row6_col8\" class=\"data row6 col8\" >0.00</td>\n",
       "      <td id=\"T_d9a3a_row6_col9\" class=\"data row6 col9\" >0.17</td>\n",
       "      <td id=\"T_d9a3a_row6_col10\" class=\"data row6 col10\" >0.54</td>\n",
       "      <td id=\"T_d9a3a_row6_col11\" class=\"data row6 col11\" >0.88</td>\n",
       "      <td id=\"T_d9a3a_row6_col12\" class=\"data row6 col12\" >0.88</td>\n",
       "      <td id=\"T_d9a3a_row6_col13\" class=\"data row6 col13\" >0.98</td>\n",
       "      <td id=\"T_d9a3a_row6_col14\" class=\"data row6 col14\" >0.99</td>\n",
       "      <td id=\"T_d9a3a_row6_col15\" class=\"data row6 col15\" >0.98</td>\n",
       "      <td id=\"T_d9a3a_row6_col16\" class=\"data row6 col16\" >0.98</td>\n",
       "      <td id=\"T_d9a3a_row6_col17\" class=\"data row6 col17\" >0.98</td>\n",
       "      <td id=\"T_d9a3a_row6_col18\" class=\"data row6 col18\" >0.98</td>\n",
       "      <td id=\"T_d9a3a_row6_col19\" class=\"data row6 col19\" >0.98</td>\n",
       "      <td id=\"T_d9a3a_row6_col20\" class=\"data row6 col20\" >0.98</td>\n",
       "      <td id=\"T_d9a3a_row6_col21\" class=\"data row6 col21\" >0.62</td>\n",
       "      <td id=\"T_d9a3a_row6_col22\" class=\"data row6 col22\" >0.05</td>\n",
       "    </tr>\n",
       "    <tr>\n",
       "      <th id=\"T_d9a3a_level0_row7\" class=\"row_heading level0 row7\" >7</th>\n",
       "      <td id=\"T_d9a3a_row7_col0\" class=\"data row7 col0\" >0.00</td>\n",
       "      <td id=\"T_d9a3a_row7_col1\" class=\"data row7 col1\" >0.00</td>\n",
       "      <td id=\"T_d9a3a_row7_col2\" class=\"data row7 col2\" >0.00</td>\n",
       "      <td id=\"T_d9a3a_row7_col3\" class=\"data row7 col3\" >0.00</td>\n",
       "      <td id=\"T_d9a3a_row7_col4\" class=\"data row7 col4\" >0.00</td>\n",
       "      <td id=\"T_d9a3a_row7_col5\" class=\"data row7 col5\" >0.00</td>\n",
       "      <td id=\"T_d9a3a_row7_col6\" class=\"data row7 col6\" >0.00</td>\n",
       "      <td id=\"T_d9a3a_row7_col7\" class=\"data row7 col7\" >0.00</td>\n",
       "      <td id=\"T_d9a3a_row7_col8\" class=\"data row7 col8\" >0.00</td>\n",
       "      <td id=\"T_d9a3a_row7_col9\" class=\"data row7 col9\" >0.70</td>\n",
       "      <td id=\"T_d9a3a_row7_col10\" class=\"data row7 col10\" >0.98</td>\n",
       "      <td id=\"T_d9a3a_row7_col11\" class=\"data row7 col11\" >0.98</td>\n",
       "      <td id=\"T_d9a3a_row7_col12\" class=\"data row7 col12\" >0.98</td>\n",
       "      <td id=\"T_d9a3a_row7_col13\" class=\"data row7 col13\" >0.98</td>\n",
       "      <td id=\"T_d9a3a_row7_col14\" class=\"data row7 col14\" >0.99</td>\n",
       "      <td id=\"T_d9a3a_row7_col15\" class=\"data row7 col15\" >0.98</td>\n",
       "      <td id=\"T_d9a3a_row7_col16\" class=\"data row7 col16\" >0.98</td>\n",
       "      <td id=\"T_d9a3a_row7_col17\" class=\"data row7 col17\" >0.98</td>\n",
       "      <td id=\"T_d9a3a_row7_col18\" class=\"data row7 col18\" >0.98</td>\n",
       "      <td id=\"T_d9a3a_row7_col19\" class=\"data row7 col19\" >0.98</td>\n",
       "      <td id=\"T_d9a3a_row7_col20\" class=\"data row7 col20\" >0.98</td>\n",
       "      <td id=\"T_d9a3a_row7_col21\" class=\"data row7 col21\" >0.98</td>\n",
       "      <td id=\"T_d9a3a_row7_col22\" class=\"data row7 col22\" >0.23</td>\n",
       "    </tr>\n",
       "    <tr>\n",
       "      <th id=\"T_d9a3a_level0_row8\" class=\"row_heading level0 row8\" >8</th>\n",
       "      <td id=\"T_d9a3a_row8_col0\" class=\"data row8 col0\" >0.00</td>\n",
       "      <td id=\"T_d9a3a_row8_col1\" class=\"data row8 col1\" >0.00</td>\n",
       "      <td id=\"T_d9a3a_row8_col2\" class=\"data row8 col2\" >0.00</td>\n",
       "      <td id=\"T_d9a3a_row8_col3\" class=\"data row8 col3\" >0.00</td>\n",
       "      <td id=\"T_d9a3a_row8_col4\" class=\"data row8 col4\" >0.00</td>\n",
       "      <td id=\"T_d9a3a_row8_col5\" class=\"data row8 col5\" >0.00</td>\n",
       "      <td id=\"T_d9a3a_row8_col6\" class=\"data row8 col6\" >0.00</td>\n",
       "      <td id=\"T_d9a3a_row8_col7\" class=\"data row8 col7\" >0.00</td>\n",
       "      <td id=\"T_d9a3a_row8_col8\" class=\"data row8 col8\" >0.00</td>\n",
       "      <td id=\"T_d9a3a_row8_col9\" class=\"data row8 col9\" >0.43</td>\n",
       "      <td id=\"T_d9a3a_row8_col10\" class=\"data row8 col10\" >0.98</td>\n",
       "      <td id=\"T_d9a3a_row8_col11\" class=\"data row8 col11\" >0.98</td>\n",
       "      <td id=\"T_d9a3a_row8_col12\" class=\"data row8 col12\" >0.90</td>\n",
       "      <td id=\"T_d9a3a_row8_col13\" class=\"data row8 col13\" >0.52</td>\n",
       "      <td id=\"T_d9a3a_row8_col14\" class=\"data row8 col14\" >0.52</td>\n",
       "      <td id=\"T_d9a3a_row8_col15\" class=\"data row8 col15\" >0.52</td>\n",
       "      <td id=\"T_d9a3a_row8_col16\" class=\"data row8 col16\" >0.52</td>\n",
       "      <td id=\"T_d9a3a_row8_col17\" class=\"data row8 col17\" >0.74</td>\n",
       "      <td id=\"T_d9a3a_row8_col18\" class=\"data row8 col18\" >0.98</td>\n",
       "      <td id=\"T_d9a3a_row8_col19\" class=\"data row8 col19\" >0.98</td>\n",
       "      <td id=\"T_d9a3a_row8_col20\" class=\"data row8 col20\" >0.98</td>\n",
       "      <td id=\"T_d9a3a_row8_col21\" class=\"data row8 col21\" >0.98</td>\n",
       "      <td id=\"T_d9a3a_row8_col22\" class=\"data row8 col22\" >0.23</td>\n",
       "    </tr>\n",
       "    <tr>\n",
       "      <th id=\"T_d9a3a_level0_row9\" class=\"row_heading level0 row9\" >9</th>\n",
       "      <td id=\"T_d9a3a_row9_col0\" class=\"data row9 col0\" >0.00</td>\n",
       "      <td id=\"T_d9a3a_row9_col1\" class=\"data row9 col1\" >0.00</td>\n",
       "      <td id=\"T_d9a3a_row9_col2\" class=\"data row9 col2\" >0.00</td>\n",
       "      <td id=\"T_d9a3a_row9_col3\" class=\"data row9 col3\" >0.00</td>\n",
       "      <td id=\"T_d9a3a_row9_col4\" class=\"data row9 col4\" >0.00</td>\n",
       "      <td id=\"T_d9a3a_row9_col5\" class=\"data row9 col5\" >0.00</td>\n",
       "      <td id=\"T_d9a3a_row9_col6\" class=\"data row9 col6\" >0.00</td>\n",
       "      <td id=\"T_d9a3a_row9_col7\" class=\"data row9 col7\" >0.00</td>\n",
       "      <td id=\"T_d9a3a_row9_col8\" class=\"data row9 col8\" >0.00</td>\n",
       "      <td id=\"T_d9a3a_row9_col9\" class=\"data row9 col9\" >0.02</td>\n",
       "      <td id=\"T_d9a3a_row9_col10\" class=\"data row9 col10\" >0.11</td>\n",
       "      <td id=\"T_d9a3a_row9_col11\" class=\"data row9 col11\" >0.11</td>\n",
       "      <td id=\"T_d9a3a_row9_col12\" class=\"data row9 col12\" >0.09</td>\n",
       "      <td id=\"T_d9a3a_row9_col13\" class=\"data row9 col13\" >0.00</td>\n",
       "      <td id=\"T_d9a3a_row9_col14\" class=\"data row9 col14\" >0.00</td>\n",
       "      <td id=\"T_d9a3a_row9_col15\" class=\"data row9 col15\" >0.00</td>\n",
       "      <td id=\"T_d9a3a_row9_col16\" class=\"data row9 col16\" >0.00</td>\n",
       "      <td id=\"T_d9a3a_row9_col17\" class=\"data row9 col17\" >0.05</td>\n",
       "      <td id=\"T_d9a3a_row9_col18\" class=\"data row9 col18\" >0.88</td>\n",
       "      <td id=\"T_d9a3a_row9_col19\" class=\"data row9 col19\" >0.98</td>\n",
       "      <td id=\"T_d9a3a_row9_col20\" class=\"data row9 col20\" >0.98</td>\n",
       "      <td id=\"T_d9a3a_row9_col21\" class=\"data row9 col21\" >0.67</td>\n",
       "      <td id=\"T_d9a3a_row9_col22\" class=\"data row9 col22\" >0.03</td>\n",
       "    </tr>\n",
       "    <tr>\n",
       "      <th id=\"T_d9a3a_level0_row10\" class=\"row_heading level0 row10\" >10</th>\n",
       "      <td id=\"T_d9a3a_row10_col0\" class=\"data row10 col0\" >0.00</td>\n",
       "      <td id=\"T_d9a3a_row10_col1\" class=\"data row10 col1\" >0.00</td>\n",
       "      <td id=\"T_d9a3a_row10_col2\" class=\"data row10 col2\" >0.00</td>\n",
       "      <td id=\"T_d9a3a_row10_col3\" class=\"data row10 col3\" >0.00</td>\n",
       "      <td id=\"T_d9a3a_row10_col4\" class=\"data row10 col4\" >0.00</td>\n",
       "      <td id=\"T_d9a3a_row10_col5\" class=\"data row10 col5\" >0.00</td>\n",
       "      <td id=\"T_d9a3a_row10_col6\" class=\"data row10 col6\" >0.00</td>\n",
       "      <td id=\"T_d9a3a_row10_col7\" class=\"data row10 col7\" >0.00</td>\n",
       "      <td id=\"T_d9a3a_row10_col8\" class=\"data row10 col8\" >0.00</td>\n",
       "      <td id=\"T_d9a3a_row10_col9\" class=\"data row10 col9\" >0.00</td>\n",
       "      <td id=\"T_d9a3a_row10_col10\" class=\"data row10 col10\" >0.00</td>\n",
       "      <td id=\"T_d9a3a_row10_col11\" class=\"data row10 col11\" >0.00</td>\n",
       "      <td id=\"T_d9a3a_row10_col12\" class=\"data row10 col12\" >0.00</td>\n",
       "      <td id=\"T_d9a3a_row10_col13\" class=\"data row10 col13\" >0.00</td>\n",
       "      <td id=\"T_d9a3a_row10_col14\" class=\"data row10 col14\" >0.00</td>\n",
       "      <td id=\"T_d9a3a_row10_col15\" class=\"data row10 col15\" >0.00</td>\n",
       "      <td id=\"T_d9a3a_row10_col16\" class=\"data row10 col16\" >0.00</td>\n",
       "      <td id=\"T_d9a3a_row10_col17\" class=\"data row10 col17\" >0.33</td>\n",
       "      <td id=\"T_d9a3a_row10_col18\" class=\"data row10 col18\" >0.95</td>\n",
       "      <td id=\"T_d9a3a_row10_col19\" class=\"data row10 col19\" >0.98</td>\n",
       "      <td id=\"T_d9a3a_row10_col20\" class=\"data row10 col20\" >0.98</td>\n",
       "      <td id=\"T_d9a3a_row10_col21\" class=\"data row10 col21\" >0.56</td>\n",
       "      <td id=\"T_d9a3a_row10_col22\" class=\"data row10 col22\" >0.00</td>\n",
       "    </tr>\n",
       "    <tr>\n",
       "      <th id=\"T_d9a3a_level0_row11\" class=\"row_heading level0 row11\" >11</th>\n",
       "      <td id=\"T_d9a3a_row11_col0\" class=\"data row11 col0\" >0.00</td>\n",
       "      <td id=\"T_d9a3a_row11_col1\" class=\"data row11 col1\" >0.00</td>\n",
       "      <td id=\"T_d9a3a_row11_col2\" class=\"data row11 col2\" >0.00</td>\n",
       "      <td id=\"T_d9a3a_row11_col3\" class=\"data row11 col3\" >0.00</td>\n",
       "      <td id=\"T_d9a3a_row11_col4\" class=\"data row11 col4\" >0.00</td>\n",
       "      <td id=\"T_d9a3a_row11_col5\" class=\"data row11 col5\" >0.00</td>\n",
       "      <td id=\"T_d9a3a_row11_col6\" class=\"data row11 col6\" >0.00</td>\n",
       "      <td id=\"T_d9a3a_row11_col7\" class=\"data row11 col7\" >0.00</td>\n",
       "      <td id=\"T_d9a3a_row11_col8\" class=\"data row11 col8\" >0.00</td>\n",
       "      <td id=\"T_d9a3a_row11_col9\" class=\"data row11 col9\" >0.00</td>\n",
       "      <td id=\"T_d9a3a_row11_col10\" class=\"data row11 col10\" >0.00</td>\n",
       "      <td id=\"T_d9a3a_row11_col11\" class=\"data row11 col11\" >0.00</td>\n",
       "      <td id=\"T_d9a3a_row11_col12\" class=\"data row11 col12\" >0.00</td>\n",
       "      <td id=\"T_d9a3a_row11_col13\" class=\"data row11 col13\" >0.00</td>\n",
       "      <td id=\"T_d9a3a_row11_col14\" class=\"data row11 col14\" >0.00</td>\n",
       "      <td id=\"T_d9a3a_row11_col15\" class=\"data row11 col15\" >0.00</td>\n",
       "      <td id=\"T_d9a3a_row11_col16\" class=\"data row11 col16\" >0.34</td>\n",
       "      <td id=\"T_d9a3a_row11_col17\" class=\"data row11 col17\" >0.74</td>\n",
       "      <td id=\"T_d9a3a_row11_col18\" class=\"data row11 col18\" >0.98</td>\n",
       "      <td id=\"T_d9a3a_row11_col19\" class=\"data row11 col19\" >0.98</td>\n",
       "      <td id=\"T_d9a3a_row11_col20\" class=\"data row11 col20\" >0.98</td>\n",
       "      <td id=\"T_d9a3a_row11_col21\" class=\"data row11 col21\" >0.05</td>\n",
       "      <td id=\"T_d9a3a_row11_col22\" class=\"data row11 col22\" >0.00</td>\n",
       "    </tr>\n",
       "    <tr>\n",
       "      <th id=\"T_d9a3a_level0_row12\" class=\"row_heading level0 row12\" >12</th>\n",
       "      <td id=\"T_d9a3a_row12_col0\" class=\"data row12 col0\" >0.00</td>\n",
       "      <td id=\"T_d9a3a_row12_col1\" class=\"data row12 col1\" >0.00</td>\n",
       "      <td id=\"T_d9a3a_row12_col2\" class=\"data row12 col2\" >0.00</td>\n",
       "      <td id=\"T_d9a3a_row12_col3\" class=\"data row12 col3\" >0.00</td>\n",
       "      <td id=\"T_d9a3a_row12_col4\" class=\"data row12 col4\" >0.00</td>\n",
       "      <td id=\"T_d9a3a_row12_col5\" class=\"data row12 col5\" >0.00</td>\n",
       "      <td id=\"T_d9a3a_row12_col6\" class=\"data row12 col6\" >0.00</td>\n",
       "      <td id=\"T_d9a3a_row12_col7\" class=\"data row12 col7\" >0.00</td>\n",
       "      <td id=\"T_d9a3a_row12_col8\" class=\"data row12 col8\" >0.00</td>\n",
       "      <td id=\"T_d9a3a_row12_col9\" class=\"data row12 col9\" >0.00</td>\n",
       "      <td id=\"T_d9a3a_row12_col10\" class=\"data row12 col10\" >0.00</td>\n",
       "      <td id=\"T_d9a3a_row12_col11\" class=\"data row12 col11\" >0.00</td>\n",
       "      <td id=\"T_d9a3a_row12_col12\" class=\"data row12 col12\" >0.00</td>\n",
       "      <td id=\"T_d9a3a_row12_col13\" class=\"data row12 col13\" >0.00</td>\n",
       "      <td id=\"T_d9a3a_row12_col14\" class=\"data row12 col14\" >0.36</td>\n",
       "      <td id=\"T_d9a3a_row12_col15\" class=\"data row12 col15\" >0.83</td>\n",
       "      <td id=\"T_d9a3a_row12_col16\" class=\"data row12 col16\" >0.96</td>\n",
       "      <td id=\"T_d9a3a_row12_col17\" class=\"data row12 col17\" >0.98</td>\n",
       "      <td id=\"T_d9a3a_row12_col18\" class=\"data row12 col18\" >0.98</td>\n",
       "      <td id=\"T_d9a3a_row12_col19\" class=\"data row12 col19\" >0.98</td>\n",
       "      <td id=\"T_d9a3a_row12_col20\" class=\"data row12 col20\" >0.80</td>\n",
       "      <td id=\"T_d9a3a_row12_col21\" class=\"data row12 col21\" >0.04</td>\n",
       "      <td id=\"T_d9a3a_row12_col22\" class=\"data row12 col22\" >0.00</td>\n",
       "    </tr>\n",
       "  </tbody>\n",
       "</table>\n"
      ],
      "text/plain": [
       "<pandas.io.formats.style.Styler at 0x7f32499764d0>"
      ]
     },
     "execution_count": 19,
     "metadata": {},
     "output_type": "execute_result"
    }
   ],
   "source": [
    "df = pd.DataFrame(im3[:13,:23])\n",
    "df.style.format(precision=2).set_properties(**{'font-size':'7pt'}).background_gradient('Greys')"
   ]
  },
  {
   "cell_type": "code",
   "execution_count": 26,
   "metadata": {},
   "outputs": [
    {
     "data": {
      "text/plain": [
       "tensor(2.9727)"
      ]
     },
     "execution_count": 26,
     "metadata": {},
     "output_type": "execute_result"
    }
   ],
   "source": [
    "(im3[3:6,14:17]*top_edge).sum()"
   ]
  },
  {
   "cell_type": "code",
   "execution_count": 29,
   "metadata": {},
   "outputs": [
    {
     "data": {
      "text/plain": [
       "tensor(-0.0234)"
      ]
     },
     "execution_count": 29,
     "metadata": {},
     "output_type": "execute_result"
    }
   ],
   "source": []
  },
  {
   "cell_type": "code",
   "execution_count": 48,
   "metadata": {},
   "outputs": [],
   "source": [
    "def apply_kernel_MT(im, kernel): \n",
    "    r,c = im.shape\n",
    "    imgkern = torch.zeros(r,c)\n",
    "    for i in range(1,r-2):\n",
    "        for j in range(1,c-2):\n",
    "            imgkern[i,j] = (im[i-1:i+2,j-1:j+2]*kernel).sum()\n",
    "    return imgkern"
   ]
  },
  {
   "cell_type": "code",
   "execution_count": 49,
   "metadata": {},
   "outputs": [
    {
     "data": {
      "text/plain": [
       "torch.Size([28, 28])"
      ]
     },
     "execution_count": 49,
     "metadata": {},
     "output_type": "execute_result"
    },
    {
     "data": {
      "image/png": "[encoded data removed]",
      "text/plain": [
       "<Figure size 192x144 with 1 Axes>"
      ]
     },
     "metadata": {},
     "output_type": "display_data"
    }
   ],
   "source": [
    "test = apply_kernel_MT(im3, top_edge)\n",
    "show_image(test)\n",
    "test.shape\n"
   ]
  },
  {
   "cell_type": "code",
   "execution_count": 47,
   "metadata": {},
   "outputs": [
    {
     "data": {
      "text/plain": [
       "[[(0, 0), (0, 1), (0, 2), (0, 3), (0, 4)],\n",
       " [(1, 0), (1, 1), (1, 2), (1, 3), (1, 4)],\n",
       " [(2, 0), (2, 1), (2, 2), (2, 3), (2, 4)],\n",
       " [(3, 0), (3, 1), (3, 2), (3, 3), (3, 4)],\n",
       " [(4, 0), (4, 1), (4, 2), (4, 3), (4, 4)]]"
      ]
     },
     "execution_count": 47,
     "metadata": {},
     "output_type": "execute_result"
    }
   ],
   "source": [
    "[[(i,j) for j in range(5)] for i in range(5)]"
   ]
  },
  {
   "cell_type": "code",
   "execution_count": 52,
   "metadata": {},
   "outputs": [],
   "source": [
    "def apply_kernel(row,col,kernel): return (im3[row-1:row+2,col-1:col+2]*kernel).sum()"
   ]
  },
  {
   "cell_type": "code",
   "execution_count": 59,
   "metadata": {},
   "outputs": [
    {
     "data": {
      "text/plain": [
       "<Axes: >"
      ]
     },
     "execution_count": 59,
     "metadata": {},
     "output_type": "execute_result"
    },
    {
     "data": {
      "image/png": "[encoded data removed]",
      "text/plain": [
       "<Figure size 192x144 with 1 Axes>"
      ]
     },
     "metadata": {},
     "output_type": "display_data"
    }
   ],
   "source": [
    "test2 = [[apply_kernel(i,j,top_edge) for j in range(1,27)] for i in range(1,27)]\n",
    "show_image(test2)"
   ]
  },
  {
   "cell_type": "code",
   "execution_count": 60,
   "metadata": {},
   "outputs": [],
   "source": [
    "import torch.nn.functional as F\n",
    "import torch"
   ]
  },
  {
   "cell_type": "code",
   "execution_count": 61,
   "metadata": {},
   "outputs": [
    {
     "data": {
      "text/plain": [
       "torch.Size([28, 28])"
      ]
     },
     "execution_count": 61,
     "metadata": {},
     "output_type": "execute_result"
    }
   ],
   "source": [
    "im3.shape"
   ]
  },
  {
   "cell_type": "code",
   "execution_count": 64,
   "metadata": {},
   "outputs": [
    {
     "data": {
      "text/plain": [
       "torch.Size([9, 676])"
      ]
     },
     "execution_count": 64,
     "metadata": {},
     "output_type": "execute_result"
    }
   ],
   "source": [
    "inp = im3[None,None,:,:].float()\n",
    "inp_unf = F.unfold(inp, (3,3))[0]\n",
    "inp_unf.shape"
   ]
  },
  {
   "cell_type": "code",
   "execution_count": 65,
   "metadata": {},
   "outputs": [
    {
     "ename": "NameError",
     "evalue": "name 'left_edge' is not defined",
     "output_type": "error",
     "traceback": [
      "\u001b[0;31m---------------------------------------------------------------------------\u001b[0m",
      "\u001b[0;31mNameError\u001b[0m                                 Traceback (most recent call last)",
      "Cell \u001b[0;32mIn[65], line 1\u001b[0m\n\u001b[0;32m----> 1\u001b[0m w \u001b[39m=\u001b[39m left_edge\u001b[39m.\u001b[39mview(\u001b[39m-\u001b[39m\u001b[39m1\u001b[39m)\n\u001b[1;32m      2\u001b[0m w\u001b[39m.\u001b[39mshape\n",
      "\u001b[0;31mNameError\u001b[0m: name 'left_edge' is not defined"
     ]
    }
   ],
   "source": [
    "w = left_edge.view(-1)\n",
    "w.shape"
   ]
  },
  {
   "cell_type": "code",
   "execution_count": 67,
   "metadata": {},
   "outputs": [
    {
     "ename": "RuntimeError",
     "evalue": "weight should have at least three dimensions",
     "output_type": "error",
     "traceback": [
      "\u001b[0;31m---------------------------------------------------------------------------\u001b[0m",
      "\u001b[0;31mRuntimeError\u001b[0m                              Traceback (most recent call last)",
      "Cell \u001b[0;32mIn[67], line 1\u001b[0m\n\u001b[0;32m----> 1\u001b[0m F\u001b[39m.\u001b[39;49mconv2d(im3[\u001b[39mNone\u001b[39;49;00m], top_edge)\n",
      "\u001b[0;31mRuntimeError\u001b[0m: weight should have at least three dimensions"
     ]
    }
   ],
   "source": [
    "F.conv2d(im3[None], top_edge)"
   ]
  },
  {
   "cell_type": "code",
   "execution_count": 72,
   "metadata": {},
   "outputs": [],
   "source": [
    "diag1_edge = tensor([[ 0,-1, 1],\n",
    "                     [-1, 1, 0],\n",
    "                     [ 1, 0, 0]]).float()"
   ]
  },
  {
   "cell_type": "code",
   "execution_count": 73,
   "metadata": {},
   "outputs": [],
   "source": [
    "diag2_edge = tensor([[ 1,-1, 0],\n",
    "                     [ 0, 1,-1],\n",
    "                     [ 0, 0, 1]]).float()"
   ]
  },
  {
   "cell_type": "code",
   "execution_count": 74,
   "metadata": {},
   "outputs": [],
   "source": [
    "left_edge = tensor([[-1,0,1],\n",
    "                    [-1,0,1],\n",
    "                    [-1,0,1]]).float()"
   ]
  },
  {
   "cell_type": "code",
   "execution_count": 71,
   "metadata": {},
   "outputs": [
    {
     "data": {
      "text/plain": [
       "torch.Size([16, 1, 28, 28])"
      ]
     },
     "execution_count": 71,
     "metadata": {},
     "output_type": "execute_result"
    }
   ],
   "source": [
    "xb = x_imgs[:16][:,None]\n",
    "xb.shape"
   ]
  },
  {
   "cell_type": "code",
   "execution_count": 75,
   "metadata": {},
   "outputs": [
    {
     "data": {
      "text/plain": [
       "torch.Size([4, 1, 3, 3])"
      ]
     },
     "execution_count": 75,
     "metadata": {},
     "output_type": "execute_result"
    }
   ],
   "source": [
    "edge_kernels = torch.stack([left_edge, top_edge, diag1_edge, diag2_edge])[:,None]\n",
    "edge_kernels.shape"
   ]
  },
  {
   "cell_type": "code",
   "execution_count": 76,
   "metadata": {},
   "outputs": [
    {
     "data": {
      "text/plain": [
       "torch.Size([16, 4, 26, 26])"
      ]
     },
     "execution_count": 76,
     "metadata": {},
     "output_type": "execute_result"
    }
   ],
   "source": [
    "batch_features = F.conv2d(xb, edge_kernels)\n",
    "batch_features.shape"
   ]
  },
  {
   "cell_type": "code",
   "execution_count": 77,
   "metadata": {},
   "outputs": [
    {
     "data": {
      "image/png": "[encoded data removed]",
      "text/plain": [
       "<Figure size 192x144 with 1 Axes>"
      ]
     },
     "metadata": {},
     "output_type": "display_data"
    }
   ],
   "source": [
    "img0 = xb[1,0]\n",
    "show_image(img0);"
   ]
  },
  {
   "cell_type": "code",
   "execution_count": 78,
   "metadata": {},
   "outputs": [
    {
     "data": {
      "image/png": "[encoded data removed]",
      "text/plain": [
       "<Figure size 180x180 with 4 Axes>"
      ]
     },
     "metadata": {},
     "output_type": "display_data"
    }
   ],
   "source": [
    "show_images([batch_features[1,i] for i in range(4)])"
   ]
  },
  {
   "cell_type": "code",
   "execution_count": 79,
   "metadata": {},
   "outputs": [],
   "source": [
    "n,m = x_train.shape\n",
    "c = y_train.max()+1\n",
    "nh = 50"
   ]
  },
  {
   "cell_type": "code",
   "execution_count": 80,
   "metadata": {},
   "outputs": [],
   "source": [
    "def conv(ni, nf, ks=3 ,stride=2, act=True):\n",
    "    res = nn.Conv2d(ni,nf,stride=stride,kernel_size=ks,padding=ks//2)\n",
    "    if act: res = nn.Sequential(res, nn.ReLU())\n",
    "    return res"
   ]
  },
  {
   "cell_type": "code",
   "execution_count": 83,
   "metadata": {},
   "outputs": [],
   "source": [
    "simple_cnn = nn.Sequential(\n",
    "    conv(1,4),     #14*14\n",
    "    conv(4,8),    #7*7\n",
    "    conv(8,16),    #4\n",
    "    conv(16,16),   #2\n",
    "    conv(16,10, act=False),  #1\n",
    "    nn.Flatten()\n",
    "    )"
   ]
  },
  {
   "cell_type": "code",
   "execution_count": 84,
   "metadata": {},
   "outputs": [
    {
     "data": {
      "text/plain": [
       "torch.Size([16, 10])"
      ]
     },
     "execution_count": 84,
     "metadata": {},
     "output_type": "execute_result"
    }
   ],
   "source": [
    "simple_cnn(xb).shape"
   ]
  },
  {
   "cell_type": "code",
   "execution_count": 85,
   "metadata": {},
   "outputs": [],
   "source": [
    "\n",
    "x_imgs = x_train.view(-1,1,28,28)\n",
    "xv_imgs = x_valid.view(-1,1,28,28)\n",
    "train_ds,valid_ds = Dataset(x_imgs, y_train),Dataset(xv_imgs, y_valid)"
   ]
  },
  {
   "cell_type": "code",
   "execution_count": 105,
   "metadata": {},
   "outputs": [],
   "source": [
    "def_device = 'mps' if torch.backends.mps.is_available() else 'cuda' if torch.cuda.is_available() else 'cpu'\n",
    "\n",
    "def to_device(x, device=def_device):\n",
    "    if isinstance(x, torch.Tensor): return x.to(device)\n",
    "    if isinstance(x, Mapping): return {k:v.to(device) for k,v in x.items()}\n",
    "    return type(x)(to_device(o, device) for o in x)\n",
    "\n",
    "def collate_device(b): return to_device(default_collate(b))"
   ]
  },
  {
   "cell_type": "code",
   "execution_count": 106,
   "metadata": {},
   "outputs": [],
   "source": [
    "\n",
    "from torch import optim\n",
    "\n",
    "bs = 256\n",
    "lr = 0.4\n",
    "train_dl,valid_dl = get_dls(train_ds, valid_ds, bs, collate_fn=collate_device)\n",
    "opt = optim.SGD(simple_cnn.parameters(), lr=lr)"
   ]
  },
  {
   "cell_type": "code",
   "execution_count": 107,
   "metadata": {},
   "outputs": [],
   "source": [
    "xxb, yyb = next(iter(train_dl))"
   ]
  },
  {
   "cell_type": "code",
   "execution_count": 108,
   "metadata": {},
   "outputs": [
    {
     "data": {
      "text/plain": [
       "torch.Size([256, 1, 28, 28])"
      ]
     },
     "execution_count": 108,
     "metadata": {},
     "output_type": "execute_result"
    }
   ],
   "source": [
    "xxb.shape"
   ]
  },
  {
   "cell_type": "code",
   "execution_count": 109,
   "metadata": {},
   "outputs": [
    {
     "name": "stderr",
     "output_type": "stream",
     "text": [
      "/home/metao/fastai2023/part2/.conda/lib/python3.10/site-packages/torch/nn/modules/conv.py:459: UserWarning: Applied workaround for CuDNN issue, install nvrtc.so (Triggered internally at /opt/conda/conda-bld/pytorch_1682343995026/work/aten/src/ATen/native/cudnn/Conv_v8.cpp:80.)\n",
      "  return F.conv2d(input, weight, bias, self.stride,\n"
     ]
    },
    {
     "name": "stdout",
     "output_type": "stream",
     "text": [
      "0 0.3814475311279297 0.8850000001907349\n",
      "1 0.23061883993148805 0.9335000002861022\n",
      "2 0.11658584961891175 0.964200000667572\n",
      "3 0.12520425651073455 0.9598000003814697\n",
      "4 0.0997743016242981 0.9723999993324279\n"
     ]
    }
   ],
   "source": [
    "loss,acc = fit(5, simple_cnn.to(def_device), F.cross_entropy, opt, train_dl, valid_dl)"
   ]
  },
  {
   "cell_type": "code",
   "execution_count": 110,
   "metadata": {},
   "outputs": [
    {
     "name": "stdout",
     "output_type": "stream",
     "text": [
      "0 0.08540442657470704 0.9755999996185303\n",
      "1 0.08266713259220124 0.9766999995231629\n",
      "2 0.08420867087841034 0.9760999995231628\n",
      "3 0.08249362993240357 0.9769999995231629\n",
      "4 0.08230459611415863 0.9769999995231629\n"
     ]
    }
   ],
   "source": [
    "opt = optim.SGD(simple_cnn.parameters(), lr=lr/4)\n",
    "loss,acc = fit(5, simple_cnn.to(def_device), F.cross_entropy, opt, train_dl, valid_dl)"
   ]
  },
  {
   "cell_type": "code",
   "execution_count": null,
   "metadata": {},
   "outputs": [],
   "source": []
  }
 ],
 "metadata": {
  "kernelspec": {
   "display_name": "Python 3",
   "language": "python",
   "name": "python3"
  },
  "language_info": {
   "codemirror_mode": {
    "name": "ipython",
    "version": 3
   },
   "file_extension": ".py",
   "mimetype": "text/x-python",
   "name": "python",
   "nbconvert_exporter": "python",
   "pygments_lexer": "ipython3",
   "version": "3.10.12"
  },
  "orig_nbformat": 4
 },
 "nbformat": 4,
 "nbformat_minor": 2
}
