{
 "cells": [
  {
   "cell_type": "code",
   "execution_count": 1,
   "metadata": {},
   "outputs": [],
   "source": [
    "from pathlib import Path\n",
    "import pandas as pd\n",
    "from glob import glob\n",
    "import matplotlib as mpl\n",
    "import matplotlib.pyplot as plt\n",
    "from PIL import Image\n",
    "from fastcore.all import L, noop\n",
    "import os\n",
    "import torch\n",
    "from torch import tensor, nn, optim\n",
    "from torchvision.io import read_image, ImageReadMode\n",
    "import numpy as np\n",
    "from torch.utils.data import DataLoader\n",
    "\n",
    "from miniai.datasets import show_image, show_images, DataLoaders, get_dls\n",
    "\n",
    "import matplotlib as mpl\n",
    "\n",
    "import torchvision.transforms.functional as TF\n",
    "import torchvision.transforms as T\n",
    "import torch.nn.functional as F\n",
    "\n",
    "from functools import partial\n",
    "from torcheval.metrics import MulticlassAccuracy\n",
    "from torch.optim import lr_scheduler\n",
    "\n",
    "from miniai.augment import * #Random Erase\n",
    "from miniai.datasets import *\n",
    "from miniai.conv import *\n",
    "from miniai.learner import *\n",
    "from miniai.activations import *\n",
    "from miniai.init import *\n",
    "from miniai.sgd import *\n",
    "from miniai.resnet import *\n",
    "from miniai.accel import *\n",
    "from miniai.training import *"
   ]
  },
  {
   "cell_type": "code",
   "execution_count": 2,
   "metadata": {},
   "outputs": [],
   "source": [
    "mpl.rcParams.update({'font.size': 10})\n",
    "torch.set_printoptions(precision=5, linewidth=140, sci_mode=False)\n",
    "torch.manual_seed(1)\n",
    "mpl.rcParams['figure.dpi'] = 70\n",
    "\n",
    "set_seed(42)"
   ]
  },
  {
   "cell_type": "code",
   "execution_count": 3,
   "metadata": {},
   "outputs": [],
   "source": [
    "path_data = Path('data/tiny-imagenet-200')\n",
    "path_data_train = path_data/'train'\n",
    "path_data_val = path_data/'val'"
   ]
  },
  {
   "cell_type": "code",
   "execution_count": 4,
   "metadata": {},
   "outputs": [],
   "source": [
    "class TinyTrainDS:\n",
    "    def __init__(self, path):\n",
    "        self.path = path\n",
    "        self.files = glob(str(path/'**/*.JPEG'), recursive=True)\n",
    "\n",
    "    def __len__(self): return len(self.files)\n",
    "\n",
    "    def __getitem__(self, i):\n",
    "        return self.files[i], Path(self.files[i]).parent.parent.name"
   ]
  },
  {
   "cell_type": "code",
   "execution_count": 5,
   "metadata": {},
   "outputs": [
    {
     "data": {
      "text/plain": [
       "100000"
      ]
     },
     "execution_count": 5,
     "metadata": {},
     "output_type": "execute_result"
    }
   ],
   "source": [
    "ds_train = TinyTrainDS(path_data_train)\n",
    "len(ds_train)"
   ]
  },
  {
   "cell_type": "code",
   "execution_count": 6,
   "metadata": {},
   "outputs": [
    {
     "data": {
      "text/plain": [
       "10000"
      ]
     },
     "execution_count": 6,
     "metadata": {},
     "output_type": "execute_result"
    }
   ],
   "source": [
    "path_anno = path_data_val/'val_annotations.txt'\n",
    "anno = dict(o.split('\\t')[:2] for o in path_anno.read_text().splitlines())\n",
    "len(anno)"
   ]
  },
  {
   "cell_type": "code",
   "execution_count": 7,
   "metadata": {},
   "outputs": [],
   "source": [
    "class TinyValDS(TinyTrainDS):\n",
    "    def __getitem__(self, i):\n",
    "        return self.files[i], anno[os.path.basename(self.files[i])]"
   ]
  },
  {
   "cell_type": "code",
   "execution_count": 8,
   "metadata": {},
   "outputs": [],
   "source": [
    "ds_val = TinyValDS(path_data_val)"
   ]
  },
  {
   "cell_type": "code",
   "execution_count": 20,
   "metadata": {},
   "outputs": [
    {
     "name": "stdout",
     "output_type": "stream",
     "text": [
      "tensor([0.47554, 0.44624, 0.39227]) tensor([0.27507, 0.26544, 0.27945])\n"
     ]
    }
   ],
   "source": [
    "bs = 512\n",
    "dlt = DataLoader(ds_train, bs, shuffle=True, num_workers=8)\n",
    "xb, yb = next(iter(dlt))\n",
    "xb_mean_std = [read_image(o, mode=ImageReadMode.RGB)/255 for o in xb]\n",
    "xb_mean_std = torch.stack(xb_mean_std)\n",
    "xb_mean_std.shape\n",
    "x_mean = xb_mean_std.mean((0,2,3))\n",
    "x_std  = xb_mean_std.std((0,2,3))\n",
    "print(x_mean, x_std)"
   ]
  },
  {
   "cell_type": "code",
   "execution_count": 21,
   "metadata": {},
   "outputs": [],
   "source": [
    "def tfrm_x(x):\n",
    "    img = read_image(x, mode=ImageReadMode.RGB)/255\n",
    "    img = (img - x_mean[:,None,None]) / x_std[:,None,None]\n",
    "    return img"
   ]
  },
  {
   "cell_type": "code",
   "execution_count": 22,
   "metadata": {},
   "outputs": [],
   "source": [
    "path_wnids = path_data/'wnids.txt'\n",
    "itos = {k:v for k,v in enumerate(path_wnids.read_text().splitlines())}\n",
    "stoi = {v:k for k,v in enumerate(path_wnids.read_text().splitlines())}"
   ]
  },
  {
   "cell_type": "code",
   "execution_count": 23,
   "metadata": {},
   "outputs": [
    {
     "data": {
      "text/plain": [
       "{'ns2124075': 0,\n",
       " 'n04067472': 1,\n",
       " 'n04540053': 2,\n",
       " 'n04099969': 3,\n",
       " 'n07749582': 4,\n",
       " 'n01641577': 5,\n",
       " 'n02802426': 6,\n",
       " 'n09246464': 7,\n",
       " 'n07920052': 8,\n",
       " 'n03970156': 9,\n",
       " 'n03891332': 10,\n",
       " 'n02106662': 11,\n",
       " 'n03201208': 12,\n",
       " 'n02279972': 13,\n",
       " 'n02132136': 14,\n",
       " 'n04146614': 15,\n",
       " 'n07873807': 16,\n",
       " 'n02364673': 17,\n",
       " 'n04507155': 18,\n",
       " 'n03854065': 19,\n",
       " 'n03838899': 20,\n",
       " 'n03733131': 21,\n",
       " 'n01443537': 22,\n",
       " 'n07875152': 23,\n",
       " 'n03544143': 24,\n",
       " 'n09428293': 25,\n",
       " 'n03085013': 26,\n",
       " 'n02437312': 27,\n",
       " 'n07614500': 28,\n",
       " 'n03804744': 29,\n",
       " 'n04265275': 30,\n",
       " 'n02963159': 31,\n",
       " 'n02486410': 32,\n",
       " 'n01944390': 33,\n",
       " 'n09256479': 34,\n",
       " 'n02058221': 35,\n",
       " 'n04275548': 36,\n",
       " 'n02321529': 37,\n",
       " 'n02769748': 38,\n",
       " 'n02099712': 39,\n",
       " 'n07695742': 40,\n",
       " 'n02056570': 41,\n",
       " 'n02281406': 42,\n",
       " 'n01774750': 43,\n",
       " 'n02509815': 44,\n",
       " 'n03983396': 45,\n",
       " 'n07753592': 46,\n",
       " 'n04254777': 47,\n",
       " 'n02233338': 48,\n",
       " 'n04008634': 49,\n",
       " 'n02823428': 50,\n",
       " 'n02236044': 51,\n",
       " 'n03393912': 52,\n",
       " 'n07583066': 53,\n",
       " 'n04074963': 54,\n",
       " 'n01629819': 55,\n",
       " 'n09332890': 56,\n",
       " 'n02481823': 57,\n",
       " 'n03902125': 58,\n",
       " 'n03404251': 59,\n",
       " 'n09193705': 60,\n",
       " 'n03637318': 61,\n",
       " 'n04456115': 62,\n",
       " 'n02666196': 63,\n",
       " 'n03796401': 64,\n",
       " 'n02795169': 65,\n",
       " 'n02123045': 66,\n",
       " 'n01855672': 67,\n",
       " 'n01882714': 68,\n",
       " 'n02917067': 69,\n",
       " 'n02988304': 70,\n",
       " 'n04398044': 71,\n",
       " 'n02843684': 72,\n",
       " 'n02423022': 73,\n",
       " 'n02669723': 74,\n",
       " 'n04465501': 75,\n",
       " 'n02165456': 76,\n",
       " 'n03770439': 77,\n",
       " 'n02099601': 78,\n",
       " 'n04486054': 79,\n",
       " 'n02950826': 80,\n",
       " 'n03814639': 81,\n",
       " 'n04259630': 82,\n",
       " 'n03424325': 83,\n",
       " 'n02948072': 84,\n",
       " 'n03179701': 85,\n",
       " 'n03400231': 86,\n",
       " 'n02206856': 87,\n",
       " 'n03160309': 88,\n",
       " 'n01984695': 89,\n",
       " 'n03977966': 90,\n",
       " 'n03584254': 91,\n",
       " 'n04023962': 92,\n",
       " 'n02814860': 93,\n",
       " 'n01910747': 94,\n",
       " 'n04596742': 95,\n",
       " 'n03992509': 96,\n",
       " 'n04133789': 97,\n",
       " 'n03937543': 98,\n",
       " 'n02927161': 99,\n",
       " 'n01945685': 100,\n",
       " 'n02395406': 101,\n",
       " 'n02125311': 102,\n",
       " 'n03126707': 103,\n",
       " 'n04532106': 104,\n",
       " 'n02268443': 105,\n",
       " 'n02977058': 106,\n",
       " 'n07734744': 107,\n",
       " 'n03599486': 108,\n",
       " 'n04562935': 109,\n",
       " 'n03014705': 110,\n",
       " 'n04251144': 111,\n",
       " 'n04356056': 112,\n",
       " 'n02190166': 113,\n",
       " 'n03670208': 114,\n",
       " 'n02002724': 115,\n",
       " 'n02074367': 116,\n",
       " 'n04285008': 117,\n",
       " 'n04560804': 118,\n",
       " 'n04366367': 119,\n",
       " 'n02403003': 120,\n",
       " 'n07615774': 121,\n",
       " 'n04501370': 122,\n",
       " 'n03026506': 123,\n",
       " 'n02906734': 124,\n",
       " 'n01770393': 125,\n",
       " 'n04597913': 126,\n",
       " 'n03930313': 127,\n",
       " 'n04118538': 128,\n",
       " 'n04179913': 129,\n",
       " 'n04311004': 130,\n",
       " 'n02123394': 131,\n",
       " 'n04070727': 132,\n",
       " 'n02793495': 133,\n",
       " 'n02730930': 134,\n",
       " 'n02094433': 135,\n",
       " 'n04371430': 136,\n",
       " 'n04328186': 137,\n",
       " 'n03649909': 138,\n",
       " 'n04417672': 139,\n",
       " 'n03388043': 140,\n",
       " 'n01774384': 141,\n",
       " 'n02837789': 142,\n",
       " 'n07579787': 143,\n",
       " 'n04399382': 144,\n",
       " 'n02791270': 145,\n",
       " 'n03089624': 146,\n",
       " 'n02814533': 147,\n",
       " 'n04149813': 148,\n",
       " 'n07747607': 149,\n",
       " 'n03355925': 150,\n",
       " 'n01983481': 151,\n",
       " 'n04487081': 152,\n",
       " 'n03250847': 153,\n",
       " 'n03255030': 154,\n",
       " 'n02892201': 155,\n",
       " 'n02883205': 156,\n",
       " 'n03100240': 157,\n",
       " 'n02415577': 158,\n",
       " 'n02480495': 159,\n",
       " 'n01698640': 160,\n",
       " 'n01784675': 161,\n",
       " 'n04376876': 162,\n",
       " 'n03444034': 163,\n",
       " 'n01917289': 164,\n",
       " 'n01950731': 165,\n",
       " 'n03042490': 166,\n",
       " 'n07711569': 167,\n",
       " 'n04532670': 168,\n",
       " 'n03763968': 169,\n",
       " 'n07768694': 170,\n",
       " 'n02999410': 171,\n",
       " 'n03617480': 172,\n",
       " 'n06596364': 173,\n",
       " 'n01768244': 174,\n",
       " 'n02410509': 175,\n",
       " 'n03976657': 176,\n",
       " 'n01742172': 177,\n",
       " 'n03980874': 178,\n",
       " 'n02808440': 179,\n",
       " 'n02226429': 180,\n",
       " 'n02231487': 181,\n",
       " 'n02085620': 182,\n",
       " 'n01644900': 183,\n",
       " 'n02129165': 184,\n",
       " 'n02699494': 185,\n",
       " 'n03837869': 186,\n",
       " 'n02815834': 187,\n",
       " 'n07720875': 188,\n",
       " 'n02788148': 189,\n",
       " 'n02909870': 190,\n",
       " 'n03706229': 191,\n",
       " 'n07871810': 192,\n",
       " 'n03447447': 193,\n",
       " 'n02113799': 194,\n",
       " 'n12267677': 195,\n",
       " 'n03662601': 196,\n",
       " 'n02841315': 197,\n",
       " 'n07715103': 198,\n",
       " 'n02504458': 199}"
      ]
     },
     "execution_count": 23,
     "metadata": {},
     "output_type": "execute_result"
    }
   ],
   "source": [
    "stoi"
   ]
  },
  {
   "cell_type": "code",
   "execution_count": 24,
   "metadata": {},
   "outputs": [],
   "source": [
    "def tfrm_y(y):\n",
    "    return tensor(stoi[y])"
   ]
  },
  {
   "cell_type": "code",
   "execution_count": 25,
   "metadata": {},
   "outputs": [],
   "source": [
    "class TfrmDS:\n",
    "    def __init__(self, ds, tfrm_x=noop, tfrm_y=noop):\n",
    "        self.ds = ds\n",
    "        self.tfrm_x = tfrm_x\n",
    "        self.tfrm_y = tfrm_y\n",
    "\n",
    "    def __len__(self): return len(self.ds)\n",
    "\n",
    "    def __getitem__(self, i):\n",
    "        x, y = self.ds[i]\n",
    "        return self.tfrm_x(x), self.tfrm_y(y) "
   ]
  },
  {
   "cell_type": "code",
   "execution_count": 26,
   "metadata": {},
   "outputs": [],
   "source": [
    "ds_trfm_train = TfrmDS(ds_train,tfrm_x, tfrm_y)\n",
    "ds_trfm_val = TfrmDS(ds_val,tfrm_x, tfrm_y)"
   ]
  },
  {
   "cell_type": "code",
   "execution_count": 27,
   "metadata": {},
   "outputs": [
    {
     "data": {
      "text/plain": [
       "199"
      ]
     },
     "execution_count": 27,
     "metadata": {},
     "output_type": "execute_result"
    }
   ],
   "source": [
    "path_words = path_data/'words.txt'\n",
    "categories = [o.split() for o in path_words.read_text().splitlines()]\n",
    "cat = dict(o[:2] for o in categories if o[0] in list(stoi.keys()))\n",
    "len(cat)"
   ]
  },
  {
   "cell_type": "code",
   "execution_count": 28,
   "metadata": {},
   "outputs": [],
   "source": [
    "def denorm(x):\n",
    "    return (x*x_std[:,None,None]+x_mean[:,None,None]).clip(0,1)"
   ]
  },
  {
   "cell_type": "code",
   "execution_count": 30,
   "metadata": {},
   "outputs": [
    {
     "ename": "KeyError",
     "evalue": "Caught KeyError in DataLoader worker process 0.\nOriginal Traceback (most recent call last):\n  File \"/home/metao/fastai2023/part2/.conda/lib/python3.10/site-packages/torch/utils/data/_utils/worker.py\", line 308, in _worker_loop\n    data = fetcher.fetch(index)\n  File \"/home/metao/fastai2023/part2/.conda/lib/python3.10/site-packages/torch/utils/data/_utils/fetch.py\", line 51, in fetch\n    data = [self.dataset[idx] for idx in possibly_batched_index]\n  File \"/home/metao/fastai2023/part2/.conda/lib/python3.10/site-packages/torch/utils/data/_utils/fetch.py\", line 51, in <listcomp>\n    data = [self.dataset[idx] for idx in possibly_batched_index]\n  File \"/tmp/ipykernel_3386/1302495588.py\", line 11, in __getitem__\n    return self.tfrm_x(x), self.tfrm_y(y)\n  File \"/tmp/ipykernel_3386/1100731475.py\", line 2, in tfrm_y\n    return tensor(stoi[y])\nKeyError: 'n02124075'\n",
     "output_type": "error",
     "traceback": [
      "\u001b[0;31m---------------------------------------------------------------------------\u001b[0m",
      "\u001b[0;31mKeyError\u001b[0m                                  Traceback (most recent call last)",
      "Cell \u001b[0;32mIn[30], line 3\u001b[0m\n\u001b[1;32m      1\u001b[0m bs \u001b[38;5;241m=\u001b[39m \u001b[38;5;241m512\u001b[39m\n\u001b[1;32m      2\u001b[0m dlt \u001b[38;5;241m=\u001b[39m DataLoader(ds_trfm_train, bs, shuffle\u001b[38;5;241m=\u001b[39m\u001b[38;5;28;01mTrue\u001b[39;00m, num_workers\u001b[38;5;241m=\u001b[39m\u001b[38;5;241m8\u001b[39m)\n\u001b[0;32m----> 3\u001b[0m xb, yb \u001b[38;5;241m=\u001b[39m \u001b[38;5;28;43mnext\u001b[39;49m\u001b[43m(\u001b[49m\u001b[38;5;28;43miter\u001b[39;49m\u001b[43m(\u001b[49m\u001b[43mdlt\u001b[49m\u001b[43m)\u001b[49m\u001b[43m)\u001b[49m\n",
      "File \u001b[0;32m~/fastai2023/part2/.conda/lib/python3.10/site-packages/torch/utils/data/dataloader.py:633\u001b[0m, in \u001b[0;36m_BaseDataLoaderIter.__next__\u001b[0;34m(self)\u001b[0m\n\u001b[1;32m    630\u001b[0m \u001b[38;5;28;01mif\u001b[39;00m \u001b[38;5;28mself\u001b[39m\u001b[38;5;241m.\u001b[39m_sampler_iter \u001b[38;5;129;01mis\u001b[39;00m \u001b[38;5;28;01mNone\u001b[39;00m:\n\u001b[1;32m    631\u001b[0m     \u001b[38;5;66;03m# TODO(https://github.com/pytorch/pytorch/issues/76750)\u001b[39;00m\n\u001b[1;32m    632\u001b[0m     \u001b[38;5;28mself\u001b[39m\u001b[38;5;241m.\u001b[39m_reset()  \u001b[38;5;66;03m# type: ignore[call-arg]\u001b[39;00m\n\u001b[0;32m--> 633\u001b[0m data \u001b[38;5;241m=\u001b[39m \u001b[38;5;28;43mself\u001b[39;49m\u001b[38;5;241;43m.\u001b[39;49m\u001b[43m_next_data\u001b[49m\u001b[43m(\u001b[49m\u001b[43m)\u001b[49m\n\u001b[1;32m    634\u001b[0m \u001b[38;5;28mself\u001b[39m\u001b[38;5;241m.\u001b[39m_num_yielded \u001b[38;5;241m+\u001b[39m\u001b[38;5;241m=\u001b[39m \u001b[38;5;241m1\u001b[39m\n\u001b[1;32m    635\u001b[0m \u001b[38;5;28;01mif\u001b[39;00m \u001b[38;5;28mself\u001b[39m\u001b[38;5;241m.\u001b[39m_dataset_kind \u001b[38;5;241m==\u001b[39m _DatasetKind\u001b[38;5;241m.\u001b[39mIterable \u001b[38;5;129;01mand\u001b[39;00m \\\n\u001b[1;32m    636\u001b[0m         \u001b[38;5;28mself\u001b[39m\u001b[38;5;241m.\u001b[39m_IterableDataset_len_called \u001b[38;5;129;01mis\u001b[39;00m \u001b[38;5;129;01mnot\u001b[39;00m \u001b[38;5;28;01mNone\u001b[39;00m \u001b[38;5;129;01mand\u001b[39;00m \\\n\u001b[1;32m    637\u001b[0m         \u001b[38;5;28mself\u001b[39m\u001b[38;5;241m.\u001b[39m_num_yielded \u001b[38;5;241m>\u001b[39m \u001b[38;5;28mself\u001b[39m\u001b[38;5;241m.\u001b[39m_IterableDataset_len_called:\n",
      "File \u001b[0;32m~/fastai2023/part2/.conda/lib/python3.10/site-packages/torch/utils/data/dataloader.py:1345\u001b[0m, in \u001b[0;36m_MultiProcessingDataLoaderIter._next_data\u001b[0;34m(self)\u001b[0m\n\u001b[1;32m   1343\u001b[0m \u001b[38;5;28;01melse\u001b[39;00m:\n\u001b[1;32m   1344\u001b[0m     \u001b[38;5;28;01mdel\u001b[39;00m \u001b[38;5;28mself\u001b[39m\u001b[38;5;241m.\u001b[39m_task_info[idx]\n\u001b[0;32m-> 1345\u001b[0m     \u001b[38;5;28;01mreturn\u001b[39;00m \u001b[38;5;28;43mself\u001b[39;49m\u001b[38;5;241;43m.\u001b[39;49m\u001b[43m_process_data\u001b[49m\u001b[43m(\u001b[49m\u001b[43mdata\u001b[49m\u001b[43m)\u001b[49m\n",
      "File \u001b[0;32m~/fastai2023/part2/.conda/lib/python3.10/site-packages/torch/utils/data/dataloader.py:1371\u001b[0m, in \u001b[0;36m_MultiProcessingDataLoaderIter._process_data\u001b[0;34m(self, data)\u001b[0m\n\u001b[1;32m   1369\u001b[0m \u001b[38;5;28mself\u001b[39m\u001b[38;5;241m.\u001b[39m_try_put_index()\n\u001b[1;32m   1370\u001b[0m \u001b[38;5;28;01mif\u001b[39;00m \u001b[38;5;28misinstance\u001b[39m(data, ExceptionWrapper):\n\u001b[0;32m-> 1371\u001b[0m     \u001b[43mdata\u001b[49m\u001b[38;5;241;43m.\u001b[39;49m\u001b[43mreraise\u001b[49m\u001b[43m(\u001b[49m\u001b[43m)\u001b[49m\n\u001b[1;32m   1372\u001b[0m \u001b[38;5;28;01mreturn\u001b[39;00m data\n",
      "File \u001b[0;32m~/fastai2023/part2/.conda/lib/python3.10/site-packages/torch/_utils.py:644\u001b[0m, in \u001b[0;36mExceptionWrapper.reraise\u001b[0;34m(self)\u001b[0m\n\u001b[1;32m    640\u001b[0m \u001b[38;5;28;01mexcept\u001b[39;00m \u001b[38;5;167;01mTypeError\u001b[39;00m:\n\u001b[1;32m    641\u001b[0m     \u001b[38;5;66;03m# If the exception takes multiple arguments, don't try to\u001b[39;00m\n\u001b[1;32m    642\u001b[0m     \u001b[38;5;66;03m# instantiate since we don't know how to\u001b[39;00m\n\u001b[1;32m    643\u001b[0m     \u001b[38;5;28;01mraise\u001b[39;00m \u001b[38;5;167;01mRuntimeError\u001b[39;00m(msg) \u001b[38;5;28;01mfrom\u001b[39;00m \u001b[38;5;28;01mNone\u001b[39;00m\n\u001b[0;32m--> 644\u001b[0m \u001b[38;5;28;01mraise\u001b[39;00m exception\n",
      "\u001b[0;31mKeyError\u001b[0m: Caught KeyError in DataLoader worker process 0.\nOriginal Traceback (most recent call last):\n  File \"/home/metao/fastai2023/part2/.conda/lib/python3.10/site-packages/torch/utils/data/_utils/worker.py\", line 308, in _worker_loop\n    data = fetcher.fetch(index)\n  File \"/home/metao/fastai2023/part2/.conda/lib/python3.10/site-packages/torch/utils/data/_utils/fetch.py\", line 51, in fetch\n    data = [self.dataset[idx] for idx in possibly_batched_index]\n  File \"/home/metao/fastai2023/part2/.conda/lib/python3.10/site-packages/torch/utils/data/_utils/fetch.py\", line 51, in <listcomp>\n    data = [self.dataset[idx] for idx in possibly_batched_index]\n  File \"/tmp/ipykernel_3386/1302495588.py\", line 11, in __getitem__\n    return self.tfrm_x(x), self.tfrm_y(y)\n  File \"/tmp/ipykernel_3386/1100731475.py\", line 2, in tfrm_y\n    return tensor(stoi[y])\nKeyError: 'n02124075'\n"
     ]
    }
   ],
   "source": [
    "bs = 512\n",
    "dlt = DataLoader(ds_trfm_train, bs, shuffle=True, num_workers=8)\n",
    "xb, yb = next(iter(dlt))"
   ]
  },
  {
   "cell_type": "code",
   "execution_count": null,
   "metadata": {},
   "outputs": [],
   "source": [
    "show_image(denorm(xb[0]), figsize=(2.5,2.5))"
   ]
  },
  {
   "cell_type": "code",
   "execution_count": null,
   "metadata": {},
   "outputs": [],
   "source": [
    "titles = [cat[itos[o]] for o in yb[:9].tolist()]"
   ]
  },
  {
   "cell_type": "code",
   "execution_count": null,
   "metadata": {},
   "outputs": [],
   "source": [
    "show_images(denorm(xb[:9]), titles=titles)"
   ]
  },
  {
   "cell_type": "code",
   "execution_count": null,
   "metadata": {},
   "outputs": [],
   "source": [
    "dls = DataLoaders(*get_dls(ds_trfm_train,ds_trfm_val,bs=bs, num_workers=8))"
   ]
  },
  {
   "cell_type": "code",
   "execution_count": null,
   "metadata": {},
   "outputs": [],
   "source": []
  },
  {
   "cell_type": "code",
   "execution_count": null,
   "metadata": {},
   "outputs": [],
   "source": []
  }
 ],
 "metadata": {
  "kernelspec": {
   "display_name": "Python 3",
   "language": "python",
   "name": "python3"
  },
  "language_info": {
   "codemirror_mode": {
    "name": "ipython",
    "version": 3
   },
   "file_extension": ".py",
   "mimetype": "text/x-python",
   "name": "python",
   "nbconvert_exporter": "python",
   "pygments_lexer": "ipython3",
   "version": "3.10.12"
  }
 },
 "nbformat": 4,
 "nbformat_minor": 2
}
